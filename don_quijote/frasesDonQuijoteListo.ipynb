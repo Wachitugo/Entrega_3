{
  "nbformat": 4,
  "nbformat_minor": 0,
  "metadata": {
    "colab": {
      "provenance": [],
      "gpuType": "T4"
    },
    "kernelspec": {
      "name": "python3",
      "display_name": "Python 3"
    },
    "language_info": {
      "name": "python"
    },
    "accelerator": "GPU"
  },
  "cells": [
    {
      "cell_type": "markdown",
      "source": [
        "#📦 Montaje de Drive y carga de librerías\n",
        "\n"
      ],
      "metadata": {
        "id": "URfA44KTiKQ2"
      }
    },
    {
      "cell_type": "code",
      "execution_count": 1,
      "metadata": {
        "id": "-paNp5n2iEM2",
        "colab": {
          "base_uri": "https://localhost:8080/"
        },
        "outputId": "01de645c-5e7b-4de6-9f5b-703aabe6adf4"
      },
      "outputs": [
        {
          "output_type": "stream",
          "name": "stdout",
          "text": [
            "Mounted at /content/drive\n"
          ]
        }
      ],
      "source": [
        "from google.colab import drive\n",
        "drive.mount('/content/drive')\n",
        "\n",
        "import re, nltk, numpy as np, matplotlib.pyplot as plt, pickle, unicodedata, shutil\n",
        "import tensorflow as tf\n",
        "from tensorflow.keras.models import Model\n",
        "from tensorflow.keras.layers import Input, Embedding, LSTM, Dense\n",
        "from tensorflow.keras.optimizers import Adam\n",
        "from tensorflow.keras.callbacks import EarlyStopping, ReduceLROnPlateau\n",
        "from tensorflow.keras.preprocessing.text import Tokenizer\n",
        "from tensorflow.keras.preprocessing.sequence import pad_sequences\n",
        "from sklearn.model_selection import train_test_split\n",
        "\n",
        "tf.config.run_functions_eagerly(False)\n",
        "tf.random.set_seed(42)\n",
        "np.random.seed(42)"
      ]
    },
    {
      "cell_type": "markdown",
      "source": [
        "#✅ Validación de archivo y descarga de recursos\n"
      ],
      "metadata": {
        "id": "H1fsKYuviOse"
      }
    },
    {
      "cell_type": "code",
      "source": [
        "def validar_archivo_existe(ruta):\n",
        "    import os\n",
        "    if not os.path.exists(ruta):\n",
        "        raise FileNotFoundError(f\"❌ El archivo no existe: {ruta}\")\n",
        "    print(f\"✅ Archivo encontrado: {ruta}\")\n",
        "\n",
        "# Descargar recursos de NLTK\n",
        "print(\"📥 Descargando recursos de NLTK...\")\n",
        "try:\n",
        "    nltk.download('punkt', quiet=True)\n",
        "    nltk.download('punkt_tab', quiet=True)\n",
        "    from nltk.tokenize import sent_tokenize\n",
        "    print(\"✅ NLTK configurado correctamente\")\n",
        "except Exception as e:\n",
        "    print(f\"⚠️ Error con NLTK: {e}\")\n"
      ],
      "metadata": {
        "id": "yzPmEWQniSow",
        "colab": {
          "base_uri": "https://localhost:8080/"
        },
        "outputId": "15ce09a7-58b7-4416-b4ef-7c5e7e0b2f8d"
      },
      "execution_count": 2,
      "outputs": [
        {
          "output_type": "stream",
          "name": "stdout",
          "text": [
            "📥 Descargando recursos de NLTK...\n",
            "✅ NLTK configurado correctamente\n"
          ]
        }
      ]
    },
    {
      "cell_type": "markdown",
      "source": [
        "#📚 Carga y limpieza del texto\n",
        "\n"
      ],
      "metadata": {
        "id": "8tL2aDmHiU1F"
      }
    },
    {
      "cell_type": "code",
      "source": [
        "ruta = \"/content/drive/MyDrive/Entrega_3/Don Quijote de la Mancha.txt\"\n",
        "\n",
        "try:\n",
        "    validar_archivo_existe(ruta)\n",
        "    with open(ruta, 'r', encoding='utf-8') as f:\n",
        "        texto = f.read()\n",
        "    if len(texto) < 1000:\n",
        "        raise ValueError(\"❌ El archivo parece vacío\")\n",
        "    print(f\"✅ Texto cargado: {len(texto):,} caracteres\")\n",
        "except:\n",
        "    texto = \"Don Quijote salió a buscar aventuras. Sancho Panza lo acompañó.\" * 100\n",
        "    print(\"⚠️ Usando texto de prueba\")\n",
        "\n",
        "print(\"🧹 Procesando texto...\")\n",
        "texto = unicodedata.normalize('NFD', texto)\n",
        "texto = texto.encode('ascii', 'ignore').decode('utf-8').lower()\n",
        "texto = re.sub(r'[^a-z0-9\\s\\.\\,\\!\\?\\;\\:\\-\\(\\)]', '', texto)\n",
        "texto = re.sub(r'\\s+', ' ', texto).strip()"
      ],
      "metadata": {
        "id": "4zM_jNkyiW2h",
        "colab": {
          "base_uri": "https://localhost:8080/"
        },
        "outputId": "4535f3f4-a9d7-453e-c95e-d4a82ce8683b"
      },
      "execution_count": 3,
      "outputs": [
        {
          "output_type": "stream",
          "name": "stdout",
          "text": [
            "✅ Archivo encontrado: /content/drive/MyDrive/Entrega_3/Don Quijote de la Mancha.txt\n",
            "✅ Texto cargado: 2,071,198 caracteres\n",
            "🧹 Procesando texto...\n"
          ]
        }
      ]
    },
    {
      "cell_type": "markdown",
      "source": [
        "#✂️ Tokenización de oraciones\n",
        "\n"
      ],
      "metadata": {
        "id": "ofAjKsrXias-"
      }
    },
    {
      "cell_type": "code",
      "source": [
        "def tokenizar_oraciones(texto):\n",
        "    try:\n",
        "        return sent_tokenize(texto, language='spanish')\n",
        "    except:\n",
        "        return re.split(r'[\\.!?]+', texto)\n",
        "\n",
        "oraciones = tokenizar_oraciones(texto)\n",
        "oraciones = [o.strip() for o in oraciones if o.strip() and 6 <= len(o.split()) <= 25]\n",
        "\n",
        "print(f\"✅ Oraciones procesadas: {len(oraciones)}\")"
      ],
      "metadata": {
        "id": "gRnsNtZPiYxt",
        "colab": {
          "base_uri": "https://localhost:8080/"
        },
        "outputId": "76bd919a-548b-4965-d733-77154424cda7"
      },
      "execution_count": 4,
      "outputs": [
        {
          "output_type": "stream",
          "name": "stdout",
          "text": [
            "✅ Oraciones procesadas: 2931\n"
          ]
        }
      ]
    },
    {
      "cell_type": "markdown",
      "source": [
        "#🧩 Generación de pares de entrenamiento (input → target)\n"
      ],
      "metadata": {
        "id": "PUSPFiC_idgC"
      }
    },
    {
      "cell_type": "code",
      "source": [
        "pares = []\n",
        "for i in range(len(oraciones) - 4):\n",
        "    for salto in range(1, 5):\n",
        "        if i + salto < len(oraciones):\n",
        "            pares.append((oraciones[i], oraciones[i + salto]))\n",
        "\n",
        "entrada = [x[0] for x in pares]\n",
        "objetivo = [x[1] for x in pares]\n",
        "print(f\"✅ Pares de entrenamiento creados: {len(pares):,}\")"
      ],
      "metadata": {
        "id": "5VthxGWsiflM",
        "colab": {
          "base_uri": "https://localhost:8080/"
        },
        "outputId": "de06635b-2fcb-40be-a40e-7e0439e35126"
      },
      "execution_count": 5,
      "outputs": [
        {
          "output_type": "stream",
          "name": "stdout",
          "text": [
            "✅ Pares de entrenamiento creados: 11,708\n"
          ]
        }
      ]
    },
    {
      "cell_type": "markdown",
      "source": [
        "#🔡 Tokenización de texto y preparación de secuencias\n",
        "\n"
      ],
      "metadata": {
        "id": "gVDi37Rrihbo"
      }
    },
    {
      "cell_type": "code",
      "source": [
        "# 👉 Usa palabras seguras como tokens especiales:\n",
        "objetivo = ['startseq ' + x[1] + ' endseq' for x in pares]\n",
        "\n",
        "# 👉 Tokenizer SIN filtros para conservar todo\n",
        "tokenizer = Tokenizer(num_words=8000, oov_token=\"<UNK>\", filters='')\n",
        "tokenizer.fit_on_texts(entrada + objetivo)\n",
        "\n",
        "vocab_size = len(tokenizer.word_index) + 1\n",
        "print(f\"✅ Vocabulario: {vocab_size}\")\n",
        "\n",
        "seq_in = tokenizer.texts_to_sequences(entrada)\n",
        "seq_out = tokenizer.texts_to_sequences(objetivo)\n",
        "\n",
        "# 👉 Evitar secuencias vacías\n",
        "seq_in = [s for s in seq_in if len(s) > 0]\n",
        "seq_out = [s for s in seq_out if len(s) > 0]\n",
        "\n",
        "# 👉 Limitar longitud\n",
        "max_len_in = min(25, max(len(s) for s in seq_in))\n",
        "max_len_out = min(25, max(len(s) for s in seq_out))\n",
        "\n",
        "# 👉 Pad\n",
        "X = pad_sequences(seq_in, maxlen=max_len_in, padding='post')\n",
        "y_seq = pad_sequences(seq_out, maxlen=max_len_out, padding='post')\n",
        "\n",
        "y_input = y_seq[:, :-1]\n",
        "y_output = y_seq[:, 1:]\n",
        "\n",
        "# 👉 División ALEATORIA para evitar sesgo\n",
        "idx = np.random.permutation(len(X))\n",
        "train_size = int(len(X) * 0.8)\n",
        "\n",
        "X_train = X[idx[:train_size]]\n",
        "y_in_train = y_input[idx[:train_size]]\n",
        "y_out_train = y_output[idx[:train_size]]\n",
        "\n",
        "X_val = X[idx[train_size:]]\n",
        "y_in_val = y_input[idx[train_size:]]\n",
        "y_out_val = y_output[idx[train_size:]]\n",
        "\n",
        "print(f\"✅ División aleatoria completada:\")\n",
        "print(f\"   Entrenamiento: {X_train.shape[0]} muestras\")\n",
        "print(f\"   Validación:    {X_val.shape[0]} muestras\")\n"
      ],
      "metadata": {
        "id": "HXWDChbCikPK",
        "colab": {
          "base_uri": "https://localhost:8080/"
        },
        "outputId": "4b6709ab-ac8b-44b8-bae7-70e6366a14c9"
      },
      "execution_count": 6,
      "outputs": [
        {
          "output_type": "stream",
          "name": "stdout",
          "text": [
            "✅ Vocabulario: 10406\n",
            "✅ División aleatoria completada:\n",
            "   Entrenamiento: 9366 muestras\n",
            "   Validación:    2342 muestras\n"
          ]
        }
      ]
    },
    {
      "cell_type": "markdown",
      "source": [
        "#🧠 Construcción del modelo Seq2Seq (LSTM)\n"
      ],
      "metadata": {
        "id": "CkqGOMAIim5I"
      }
    },
    {
      "cell_type": "code",
      "source": [
        "print(\"🏗️ Construyendo modelo optimizado...\")\n",
        "\n",
        "# Encoder\n",
        "enc_inputs = Input(shape=(max_len_in,))\n",
        "enc_emb_layer = Embedding(vocab_size, 128, mask_zero=True)\n",
        "enc_emb = enc_emb_layer(enc_inputs)\n",
        "enc_lstm = LSTM(\n",
        "    300,                      # Más unidades\n",
        "    return_state=True,\n",
        "    dropout=0.3,              # Más dropout\n",
        "    recurrent_dropout=0.3     # Nuevo: recurrent_dropout\n",
        ")\n",
        "_, enc_h, enc_c = enc_lstm(enc_emb)\n",
        "enc_states = [enc_h, enc_c]\n",
        "\n",
        "# Decoder\n",
        "dec_inputs = Input(shape=(max_len_out - 1,))\n",
        "dec_emb_layer = Embedding(vocab_size, 128, mask_zero=True)\n",
        "dec_emb = dec_emb_layer(dec_inputs)\n",
        "dec_lstm = LSTM(\n",
        "    300,\n",
        "    return_sequences=True,\n",
        "    return_state=True,\n",
        "    dropout=0.3,\n",
        "    recurrent_dropout=0.3\n",
        ")\n",
        "dec_outputs, _, _ = dec_lstm(dec_emb, initial_state=enc_states)\n",
        "dec_dense = Dense(vocab_size, activation='softmax')\n",
        "final_outputs = dec_dense(dec_outputs)\n",
        "\n",
        "# Modelo completo\n",
        "model = Model([enc_inputs, dec_inputs], final_outputs)\n",
        "\n",
        "# Compilación robusta\n",
        "model.compile(\n",
        "    optimizer=Adam(learning_rate=0.001, clipnorm=1.0),\n",
        "    loss='sparse_categorical_crossentropy',\n",
        "    metrics=['accuracy']\n",
        ")\n",
        "\n",
        "model.summary()"
      ],
      "metadata": {
        "id": "9OjNMQT7ilnC",
        "colab": {
          "base_uri": "https://localhost:8080/",
          "height": 578
        },
        "outputId": "8bd19a37-f5a8-48dd-b34c-e73d03eb1932"
      },
      "execution_count": 7,
      "outputs": [
        {
          "output_type": "stream",
          "name": "stdout",
          "text": [
            "🏗️ Construyendo modelo optimizado...\n"
          ]
        },
        {
          "output_type": "display_data",
          "data": {
            "text/plain": [
              "\u001b[1mModel: \"functional\"\u001b[0m\n"
            ],
            "text/html": [
              "<pre style=\"white-space:pre;overflow-x:auto;line-height:normal;font-family:Menlo,'DejaVu Sans Mono',consolas,'Courier New',monospace\"><span style=\"font-weight: bold\">Model: \"functional\"</span>\n",
              "</pre>\n"
            ]
          },
          "metadata": {}
        },
        {
          "output_type": "display_data",
          "data": {
            "text/plain": [
              "┏━━━━━━━━━━━━━━━━━━━━━┳━━━━━━━━━━━━━━━━━━━┳━━━━━━━━━━━━┳━━━━━━━━━━━━━━━━━━━┓\n",
              "┃\u001b[1m \u001b[0m\u001b[1mLayer (type)       \u001b[0m\u001b[1m \u001b[0m┃\u001b[1m \u001b[0m\u001b[1mOutput Shape     \u001b[0m\u001b[1m \u001b[0m┃\u001b[1m \u001b[0m\u001b[1m   Param #\u001b[0m\u001b[1m \u001b[0m┃\u001b[1m \u001b[0m\u001b[1mConnected to     \u001b[0m\u001b[1m \u001b[0m┃\n",
              "┡━━━━━━━━━━━━━━━━━━━━━╇━━━━━━━━━━━━━━━━━━━╇━━━━━━━━━━━━╇━━━━━━━━━━━━━━━━━━━┩\n",
              "│ input_layer         │ (\u001b[38;5;45mNone\u001b[0m, \u001b[38;5;34m25\u001b[0m)        │          \u001b[38;5;34m0\u001b[0m │ -                 │\n",
              "│ (\u001b[38;5;33mInputLayer\u001b[0m)        │                   │            │                   │\n",
              "├─────────────────────┼───────────────────┼────────────┼───────────────────┤\n",
              "│ input_layer_1       │ (\u001b[38;5;45mNone\u001b[0m, \u001b[38;5;34m24\u001b[0m)        │          \u001b[38;5;34m0\u001b[0m │ -                 │\n",
              "│ (\u001b[38;5;33mInputLayer\u001b[0m)        │                   │            │                   │\n",
              "├─────────────────────┼───────────────────┼────────────┼───────────────────┤\n",
              "│ embedding           │ (\u001b[38;5;45mNone\u001b[0m, \u001b[38;5;34m25\u001b[0m, \u001b[38;5;34m128\u001b[0m)   │  \u001b[38;5;34m1,331,968\u001b[0m │ input_layer[\u001b[38;5;34m0\u001b[0m][\u001b[38;5;34m0\u001b[0m] │\n",
              "│ (\u001b[38;5;33mEmbedding\u001b[0m)         │                   │            │                   │\n",
              "├─────────────────────┼───────────────────┼────────────┼───────────────────┤\n",
              "│ not_equal           │ (\u001b[38;5;45mNone\u001b[0m, \u001b[38;5;34m25\u001b[0m)        │          \u001b[38;5;34m0\u001b[0m │ input_layer[\u001b[38;5;34m0\u001b[0m][\u001b[38;5;34m0\u001b[0m] │\n",
              "│ (\u001b[38;5;33mNotEqual\u001b[0m)          │                   │            │                   │\n",
              "├─────────────────────┼───────────────────┼────────────┼───────────────────┤\n",
              "│ embedding_1         │ (\u001b[38;5;45mNone\u001b[0m, \u001b[38;5;34m24\u001b[0m, \u001b[38;5;34m128\u001b[0m)   │  \u001b[38;5;34m1,331,968\u001b[0m │ input_layer_1[\u001b[38;5;34m0\u001b[0m]… │\n",
              "│ (\u001b[38;5;33mEmbedding\u001b[0m)         │                   │            │                   │\n",
              "├─────────────────────┼───────────────────┼────────────┼───────────────────┤\n",
              "│ lstm (\u001b[38;5;33mLSTM\u001b[0m)         │ [(\u001b[38;5;45mNone\u001b[0m, \u001b[38;5;34m300\u001b[0m),     │    \u001b[38;5;34m514,800\u001b[0m │ embedding[\u001b[38;5;34m0\u001b[0m][\u001b[38;5;34m0\u001b[0m],  │\n",
              "│                     │ (\u001b[38;5;45mNone\u001b[0m, \u001b[38;5;34m300\u001b[0m),      │            │ not_equal[\u001b[38;5;34m0\u001b[0m][\u001b[38;5;34m0\u001b[0m]   │\n",
              "│                     │ (\u001b[38;5;45mNone\u001b[0m, \u001b[38;5;34m300\u001b[0m)]      │            │                   │\n",
              "├─────────────────────┼───────────────────┼────────────┼───────────────────┤\n",
              "│ lstm_1 (\u001b[38;5;33mLSTM\u001b[0m)       │ [(\u001b[38;5;45mNone\u001b[0m, \u001b[38;5;34m24\u001b[0m, \u001b[38;5;34m300\u001b[0m), │    \u001b[38;5;34m514,800\u001b[0m │ embedding_1[\u001b[38;5;34m0\u001b[0m][\u001b[38;5;34m0\u001b[0m… │\n",
              "│                     │ (\u001b[38;5;45mNone\u001b[0m, \u001b[38;5;34m300\u001b[0m),      │            │ lstm[\u001b[38;5;34m0\u001b[0m][\u001b[38;5;34m1\u001b[0m],       │\n",
              "│                     │ (\u001b[38;5;45mNone\u001b[0m, \u001b[38;5;34m300\u001b[0m)]      │            │ lstm[\u001b[38;5;34m0\u001b[0m][\u001b[38;5;34m2\u001b[0m]        │\n",
              "├─────────────────────┼───────────────────┼────────────┼───────────────────┤\n",
              "│ dense (\u001b[38;5;33mDense\u001b[0m)       │ (\u001b[38;5;45mNone\u001b[0m, \u001b[38;5;34m24\u001b[0m, \u001b[38;5;34m10406\u001b[0m) │  \u001b[38;5;34m3,132,206\u001b[0m │ lstm_1[\u001b[38;5;34m0\u001b[0m][\u001b[38;5;34m0\u001b[0m]      │\n",
              "└─────────────────────┴───────────────────┴────────────┴───────────────────┘\n"
            ],
            "text/html": [
              "<pre style=\"white-space:pre;overflow-x:auto;line-height:normal;font-family:Menlo,'DejaVu Sans Mono',consolas,'Courier New',monospace\">┏━━━━━━━━━━━━━━━━━━━━━┳━━━━━━━━━━━━━━━━━━━┳━━━━━━━━━━━━┳━━━━━━━━━━━━━━━━━━━┓\n",
              "┃<span style=\"font-weight: bold\"> Layer (type)        </span>┃<span style=\"font-weight: bold\"> Output Shape      </span>┃<span style=\"font-weight: bold\">    Param # </span>┃<span style=\"font-weight: bold\"> Connected to      </span>┃\n",
              "┡━━━━━━━━━━━━━━━━━━━━━╇━━━━━━━━━━━━━━━━━━━╇━━━━━━━━━━━━╇━━━━━━━━━━━━━━━━━━━┩\n",
              "│ input_layer         │ (<span style=\"color: #00d7ff; text-decoration-color: #00d7ff\">None</span>, <span style=\"color: #00af00; text-decoration-color: #00af00\">25</span>)        │          <span style=\"color: #00af00; text-decoration-color: #00af00\">0</span> │ -                 │\n",
              "│ (<span style=\"color: #0087ff; text-decoration-color: #0087ff\">InputLayer</span>)        │                   │            │                   │\n",
              "├─────────────────────┼───────────────────┼────────────┼───────────────────┤\n",
              "│ input_layer_1       │ (<span style=\"color: #00d7ff; text-decoration-color: #00d7ff\">None</span>, <span style=\"color: #00af00; text-decoration-color: #00af00\">24</span>)        │          <span style=\"color: #00af00; text-decoration-color: #00af00\">0</span> │ -                 │\n",
              "│ (<span style=\"color: #0087ff; text-decoration-color: #0087ff\">InputLayer</span>)        │                   │            │                   │\n",
              "├─────────────────────┼───────────────────┼────────────┼───────────────────┤\n",
              "│ embedding           │ (<span style=\"color: #00d7ff; text-decoration-color: #00d7ff\">None</span>, <span style=\"color: #00af00; text-decoration-color: #00af00\">25</span>, <span style=\"color: #00af00; text-decoration-color: #00af00\">128</span>)   │  <span style=\"color: #00af00; text-decoration-color: #00af00\">1,331,968</span> │ input_layer[<span style=\"color: #00af00; text-decoration-color: #00af00\">0</span>][<span style=\"color: #00af00; text-decoration-color: #00af00\">0</span>] │\n",
              "│ (<span style=\"color: #0087ff; text-decoration-color: #0087ff\">Embedding</span>)         │                   │            │                   │\n",
              "├─────────────────────┼───────────────────┼────────────┼───────────────────┤\n",
              "│ not_equal           │ (<span style=\"color: #00d7ff; text-decoration-color: #00d7ff\">None</span>, <span style=\"color: #00af00; text-decoration-color: #00af00\">25</span>)        │          <span style=\"color: #00af00; text-decoration-color: #00af00\">0</span> │ input_layer[<span style=\"color: #00af00; text-decoration-color: #00af00\">0</span>][<span style=\"color: #00af00; text-decoration-color: #00af00\">0</span>] │\n",
              "│ (<span style=\"color: #0087ff; text-decoration-color: #0087ff\">NotEqual</span>)          │                   │            │                   │\n",
              "├─────────────────────┼───────────────────┼────────────┼───────────────────┤\n",
              "│ embedding_1         │ (<span style=\"color: #00d7ff; text-decoration-color: #00d7ff\">None</span>, <span style=\"color: #00af00; text-decoration-color: #00af00\">24</span>, <span style=\"color: #00af00; text-decoration-color: #00af00\">128</span>)   │  <span style=\"color: #00af00; text-decoration-color: #00af00\">1,331,968</span> │ input_layer_1[<span style=\"color: #00af00; text-decoration-color: #00af00\">0</span>]… │\n",
              "│ (<span style=\"color: #0087ff; text-decoration-color: #0087ff\">Embedding</span>)         │                   │            │                   │\n",
              "├─────────────────────┼───────────────────┼────────────┼───────────────────┤\n",
              "│ lstm (<span style=\"color: #0087ff; text-decoration-color: #0087ff\">LSTM</span>)         │ [(<span style=\"color: #00d7ff; text-decoration-color: #00d7ff\">None</span>, <span style=\"color: #00af00; text-decoration-color: #00af00\">300</span>),     │    <span style=\"color: #00af00; text-decoration-color: #00af00\">514,800</span> │ embedding[<span style=\"color: #00af00; text-decoration-color: #00af00\">0</span>][<span style=\"color: #00af00; text-decoration-color: #00af00\">0</span>],  │\n",
              "│                     │ (<span style=\"color: #00d7ff; text-decoration-color: #00d7ff\">None</span>, <span style=\"color: #00af00; text-decoration-color: #00af00\">300</span>),      │            │ not_equal[<span style=\"color: #00af00; text-decoration-color: #00af00\">0</span>][<span style=\"color: #00af00; text-decoration-color: #00af00\">0</span>]   │\n",
              "│                     │ (<span style=\"color: #00d7ff; text-decoration-color: #00d7ff\">None</span>, <span style=\"color: #00af00; text-decoration-color: #00af00\">300</span>)]      │            │                   │\n",
              "├─────────────────────┼───────────────────┼────────────┼───────────────────┤\n",
              "│ lstm_1 (<span style=\"color: #0087ff; text-decoration-color: #0087ff\">LSTM</span>)       │ [(<span style=\"color: #00d7ff; text-decoration-color: #00d7ff\">None</span>, <span style=\"color: #00af00; text-decoration-color: #00af00\">24</span>, <span style=\"color: #00af00; text-decoration-color: #00af00\">300</span>), │    <span style=\"color: #00af00; text-decoration-color: #00af00\">514,800</span> │ embedding_1[<span style=\"color: #00af00; text-decoration-color: #00af00\">0</span>][<span style=\"color: #00af00; text-decoration-color: #00af00\">0</span>… │\n",
              "│                     │ (<span style=\"color: #00d7ff; text-decoration-color: #00d7ff\">None</span>, <span style=\"color: #00af00; text-decoration-color: #00af00\">300</span>),      │            │ lstm[<span style=\"color: #00af00; text-decoration-color: #00af00\">0</span>][<span style=\"color: #00af00; text-decoration-color: #00af00\">1</span>],       │\n",
              "│                     │ (<span style=\"color: #00d7ff; text-decoration-color: #00d7ff\">None</span>, <span style=\"color: #00af00; text-decoration-color: #00af00\">300</span>)]      │            │ lstm[<span style=\"color: #00af00; text-decoration-color: #00af00\">0</span>][<span style=\"color: #00af00; text-decoration-color: #00af00\">2</span>]        │\n",
              "├─────────────────────┼───────────────────┼────────────┼───────────────────┤\n",
              "│ dense (<span style=\"color: #0087ff; text-decoration-color: #0087ff\">Dense</span>)       │ (<span style=\"color: #00d7ff; text-decoration-color: #00d7ff\">None</span>, <span style=\"color: #00af00; text-decoration-color: #00af00\">24</span>, <span style=\"color: #00af00; text-decoration-color: #00af00\">10406</span>) │  <span style=\"color: #00af00; text-decoration-color: #00af00\">3,132,206</span> │ lstm_1[<span style=\"color: #00af00; text-decoration-color: #00af00\">0</span>][<span style=\"color: #00af00; text-decoration-color: #00af00\">0</span>]      │\n",
              "└─────────────────────┴───────────────────┴────────────┴───────────────────┘\n",
              "</pre>\n"
            ]
          },
          "metadata": {}
        },
        {
          "output_type": "display_data",
          "data": {
            "text/plain": [
              "\u001b[1m Total params: \u001b[0m\u001b[38;5;34m6,825,742\u001b[0m (26.04 MB)\n"
            ],
            "text/html": [
              "<pre style=\"white-space:pre;overflow-x:auto;line-height:normal;font-family:Menlo,'DejaVu Sans Mono',consolas,'Courier New',monospace\"><span style=\"font-weight: bold\"> Total params: </span><span style=\"color: #00af00; text-decoration-color: #00af00\">6,825,742</span> (26.04 MB)\n",
              "</pre>\n"
            ]
          },
          "metadata": {}
        },
        {
          "output_type": "display_data",
          "data": {
            "text/plain": [
              "\u001b[1m Trainable params: \u001b[0m\u001b[38;5;34m6,825,742\u001b[0m (26.04 MB)\n"
            ],
            "text/html": [
              "<pre style=\"white-space:pre;overflow-x:auto;line-height:normal;font-family:Menlo,'DejaVu Sans Mono',consolas,'Courier New',monospace\"><span style=\"font-weight: bold\"> Trainable params: </span><span style=\"color: #00af00; text-decoration-color: #00af00\">6,825,742</span> (26.04 MB)\n",
              "</pre>\n"
            ]
          },
          "metadata": {}
        },
        {
          "output_type": "display_data",
          "data": {
            "text/plain": [
              "\u001b[1m Non-trainable params: \u001b[0m\u001b[38;5;34m0\u001b[0m (0.00 B)\n"
            ],
            "text/html": [
              "<pre style=\"white-space:pre;overflow-x:auto;line-height:normal;font-family:Menlo,'DejaVu Sans Mono',consolas,'Courier New',monospace\"><span style=\"font-weight: bold\"> Non-trainable params: </span><span style=\"color: #00af00; text-decoration-color: #00af00\">0</span> (0.00 B)\n",
              "</pre>\n"
            ]
          },
          "metadata": {}
        }
      ]
    },
    {
      "cell_type": "markdown",
      "source": [
        "#🚀  Entrenamiento del modelo\n"
      ],
      "metadata": {
        "id": "YWqsS2Sjiww3"
      }
    },
    {
      "cell_type": "code",
      "source": [
        "callbacks = [\n",
        "    EarlyStopping(patience=6, restore_best_weights=True, monitor='val_loss', verbose=1),\n",
        "    ReduceLROnPlateau(patience=3, factor=0.5, monitor='val_loss', verbose=1)\n",
        "]\n",
        "\n",
        "print(\"🚀 Entrenando modelo...\")\n",
        "history = model.fit(\n",
        "    [X_train, y_in_train], y_out_train,\n",
        "    validation_data=([X_val, y_in_val], y_out_val),\n",
        "    epochs=100,\n",
        "    batch_size=64,\n",
        "    callbacks=callbacks\n",
        ")\n"
      ],
      "metadata": {
        "id": "eyyiK4WtiuLy",
        "colab": {
          "base_uri": "https://localhost:8080/"
        },
        "outputId": "1b5ddc87-7bc4-4fb9-b6e7-d5ef55246172"
      },
      "execution_count": 8,
      "outputs": [
        {
          "output_type": "stream",
          "name": "stdout",
          "text": [
            "🚀 Entrenando modelo...\n",
            "Epoch 1/100\n",
            "\u001b[1m147/147\u001b[0m \u001b[32m━━━━━━━━━━━━━━━━━━━━\u001b[0m\u001b[37m\u001b[0m \u001b[1m43s\u001b[0m 218ms/step - accuracy: 0.0720 - loss: 7.2457 - val_accuracy: 0.1015 - val_loss: 5.8926 - learning_rate: 0.0010\n",
            "Epoch 2/100\n",
            "\u001b[1m147/147\u001b[0m \u001b[32m━━━━━━━━━━━━━━━━━━━━\u001b[0m\u001b[37m\u001b[0m \u001b[1m36s\u001b[0m 212ms/step - accuracy: 0.1069 - loss: 5.8011 - val_accuracy: 0.1208 - val_loss: 5.5659 - learning_rate: 0.0010\n",
            "Epoch 3/100\n",
            "\u001b[1m147/147\u001b[0m \u001b[32m━━━━━━━━━━━━━━━━━━━━\u001b[0m\u001b[37m\u001b[0m \u001b[1m41s\u001b[0m 215ms/step - accuracy: 0.1258 - loss: 5.4658 - val_accuracy: 0.1424 - val_loss: 5.2857 - learning_rate: 0.0010\n",
            "Epoch 4/100\n",
            "\u001b[1m147/147\u001b[0m \u001b[32m━━━━━━━━━━━━━━━━━━━━\u001b[0m\u001b[37m\u001b[0m \u001b[1m31s\u001b[0m 210ms/step - accuracy: 0.1452 - loss: 5.1807 - val_accuracy: 0.1572 - val_loss: 5.0688 - learning_rate: 0.0010\n",
            "Epoch 5/100\n",
            "\u001b[1m147/147\u001b[0m \u001b[32m━━━━━━━━━━━━━━━━━━━━\u001b[0m\u001b[37m\u001b[0m \u001b[1m40s\u001b[0m 207ms/step - accuracy: 0.1622 - loss: 4.9445 - val_accuracy: 0.1748 - val_loss: 4.8740 - learning_rate: 0.0010\n",
            "Epoch 6/100\n",
            "\u001b[1m147/147\u001b[0m \u001b[32m━━━━━━━━━━━━━━━━━━━━\u001b[0m\u001b[37m\u001b[0m \u001b[1m30s\u001b[0m 204ms/step - accuracy: 0.1790 - loss: 4.7289 - val_accuracy: 0.1849 - val_loss: 4.6981 - learning_rate: 0.0010\n",
            "Epoch 7/100\n",
            "\u001b[1m147/147\u001b[0m \u001b[32m━━━━━━━━━━━━━━━━━━━━\u001b[0m\u001b[37m\u001b[0m \u001b[1m43s\u001b[0m 218ms/step - accuracy: 0.1874 - loss: 4.5328 - val_accuracy: 0.1910 - val_loss: 4.5401 - learning_rate: 0.0010\n",
            "Epoch 8/100\n",
            "\u001b[1m147/147\u001b[0m \u001b[32m━━━━━━━━━━━━━━━━━━━━\u001b[0m\u001b[37m\u001b[0m \u001b[1m40s\u001b[0m 211ms/step - accuracy: 0.1934 - loss: 4.3568 - val_accuracy: 0.1973 - val_loss: 4.3927 - learning_rate: 0.0010\n",
            "Epoch 9/100\n",
            "\u001b[1m147/147\u001b[0m \u001b[32m━━━━━━━━━━━━━━━━━━━━\u001b[0m\u001b[37m\u001b[0m \u001b[1m40s\u001b[0m 207ms/step - accuracy: 0.2004 - loss: 4.1912 - val_accuracy: 0.2030 - val_loss: 4.2539 - learning_rate: 0.0010\n",
            "Epoch 10/100\n",
            "\u001b[1m147/147\u001b[0m \u001b[32m━━━━━━━━━━━━━━━━━━━━\u001b[0m\u001b[37m\u001b[0m \u001b[1m30s\u001b[0m 205ms/step - accuracy: 0.2073 - loss: 4.0295 - val_accuracy: 0.2083 - val_loss: 4.1189 - learning_rate: 0.0010\n",
            "Epoch 11/100\n",
            "\u001b[1m147/147\u001b[0m \u001b[32m━━━━━━━━━━━━━━━━━━━━\u001b[0m\u001b[37m\u001b[0m \u001b[1m42s\u001b[0m 214ms/step - accuracy: 0.2151 - loss: 3.8750 - val_accuracy: 0.2138 - val_loss: 3.9898 - learning_rate: 0.0010\n",
            "Epoch 12/100\n",
            "\u001b[1m147/147\u001b[0m \u001b[32m━━━━━━━━━━━━━━━━━━━━\u001b[0m\u001b[37m\u001b[0m \u001b[1m41s\u001b[0m 216ms/step - accuracy: 0.2246 - loss: 3.7260 - val_accuracy: 0.2203 - val_loss: 3.8683 - learning_rate: 0.0010\n",
            "Epoch 13/100\n",
            "\u001b[1m147/147\u001b[0m \u001b[32m━━━━━━━━━━━━━━━━━━━━\u001b[0m\u001b[37m\u001b[0m \u001b[1m31s\u001b[0m 213ms/step - accuracy: 0.2350 - loss: 3.5838 - val_accuracy: 0.2292 - val_loss: 3.7469 - learning_rate: 0.0010\n",
            "Epoch 14/100\n",
            "\u001b[1m147/147\u001b[0m \u001b[32m━━━━━━━━━━━━━━━━━━━━\u001b[0m\u001b[37m\u001b[0m \u001b[1m41s\u001b[0m 211ms/step - accuracy: 0.2476 - loss: 3.4431 - val_accuracy: 0.2381 - val_loss: 3.6267 - learning_rate: 0.0010\n",
            "Epoch 15/100\n",
            "\u001b[1m147/147\u001b[0m \u001b[32m━━━━━━━━━━━━━━━━━━━━\u001b[0m\u001b[37m\u001b[0m \u001b[1m32s\u001b[0m 219ms/step - accuracy: 0.2601 - loss: 3.3096 - val_accuracy: 0.2503 - val_loss: 3.5081 - learning_rate: 0.0010\n",
            "Epoch 16/100\n",
            "\u001b[1m147/147\u001b[0m \u001b[32m━━━━━━━━━━━━━━━━━━━━\u001b[0m\u001b[37m\u001b[0m \u001b[1m40s\u001b[0m 214ms/step - accuracy: 0.2741 - loss: 3.1837 - val_accuracy: 0.2613 - val_loss: 3.4009 - learning_rate: 0.0010\n",
            "Epoch 17/100\n",
            "\u001b[1m147/147\u001b[0m \u001b[32m━━━━━━━━━━━━━━━━━━━━\u001b[0m\u001b[37m\u001b[0m \u001b[1m40s\u001b[0m 207ms/step - accuracy: 0.2873 - loss: 3.0674 - val_accuracy: 0.2714 - val_loss: 3.2974 - learning_rate: 0.0010\n",
            "Epoch 18/100\n",
            "\u001b[1m147/147\u001b[0m \u001b[32m━━━━━━━━━━━━━━━━━━━━\u001b[0m\u001b[37m\u001b[0m \u001b[1m41s\u001b[0m 205ms/step - accuracy: 0.2990 - loss: 2.9574 - val_accuracy: 0.2822 - val_loss: 3.2001 - learning_rate: 0.0010\n",
            "Epoch 19/100\n",
            "\u001b[1m147/147\u001b[0m \u001b[32m━━━━━━━━━━━━━━━━━━━━\u001b[0m\u001b[37m\u001b[0m \u001b[1m42s\u001b[0m 212ms/step - accuracy: 0.3127 - loss: 2.8537 - val_accuracy: 0.2931 - val_loss: 3.1099 - learning_rate: 0.0010\n",
            "Epoch 20/100\n",
            "\u001b[1m147/147\u001b[0m \u001b[32m━━━━━━━━━━━━━━━━━━━━\u001b[0m\u001b[37m\u001b[0m \u001b[1m41s\u001b[0m 213ms/step - accuracy: 0.3243 - loss: 2.7610 - val_accuracy: 0.3035 - val_loss: 3.0245 - learning_rate: 0.0010\n",
            "Epoch 21/100\n",
            "\u001b[1m147/147\u001b[0m \u001b[32m━━━━━━━━━━━━━━━━━━━━\u001b[0m\u001b[37m\u001b[0m \u001b[1m42s\u001b[0m 218ms/step - accuracy: 0.3339 - loss: 2.6735 - val_accuracy: 0.3128 - val_loss: 2.9444 - learning_rate: 0.0010\n",
            "Epoch 22/100\n",
            "\u001b[1m147/147\u001b[0m \u001b[32m━━━━━━━━━━━━━━━━━━━━\u001b[0m\u001b[37m\u001b[0m \u001b[1m40s\u001b[0m 212ms/step - accuracy: 0.3454 - loss: 2.5895 - val_accuracy: 0.3224 - val_loss: 2.8712 - learning_rate: 0.0010\n",
            "Epoch 23/100\n",
            "\u001b[1m147/147\u001b[0m \u001b[32m━━━━━━━━━━━━━━━━━━━━\u001b[0m\u001b[37m\u001b[0m \u001b[1m31s\u001b[0m 213ms/step - accuracy: 0.3554 - loss: 2.5104 - val_accuracy: 0.3308 - val_loss: 2.7987 - learning_rate: 0.0010\n",
            "Epoch 24/100\n",
            "\u001b[1m147/147\u001b[0m \u001b[32m━━━━━━━━━━━━━━━━━━━━\u001b[0m\u001b[37m\u001b[0m \u001b[1m41s\u001b[0m 212ms/step - accuracy: 0.3658 - loss: 2.4354 - val_accuracy: 0.3386 - val_loss: 2.7341 - learning_rate: 0.0010\n",
            "Epoch 25/100\n",
            "\u001b[1m147/147\u001b[0m \u001b[32m━━━━━━━━━━━━━━━━━━━━\u001b[0m\u001b[37m\u001b[0m \u001b[1m41s\u001b[0m 212ms/step - accuracy: 0.3746 - loss: 2.3644 - val_accuracy: 0.3465 - val_loss: 2.6687 - learning_rate: 0.0010\n",
            "Epoch 26/100\n",
            "\u001b[1m147/147\u001b[0m \u001b[32m━━━━━━━━━━━━━━━━━━━━\u001b[0m\u001b[37m\u001b[0m \u001b[1m42s\u001b[0m 222ms/step - accuracy: 0.3822 - loss: 2.2980 - val_accuracy: 0.3545 - val_loss: 2.6090 - learning_rate: 0.0010\n",
            "Epoch 27/100\n",
            "\u001b[1m147/147\u001b[0m \u001b[32m━━━━━━━━━━━━━━━━━━━━\u001b[0m\u001b[37m\u001b[0m \u001b[1m39s\u001b[0m 210ms/step - accuracy: 0.3909 - loss: 2.2372 - val_accuracy: 0.3609 - val_loss: 2.5506 - learning_rate: 0.0010\n",
            "Epoch 28/100\n",
            "\u001b[1m147/147\u001b[0m \u001b[32m━━━━━━━━━━━━━━━━━━━━\u001b[0m\u001b[37m\u001b[0m \u001b[1m41s\u001b[0m 207ms/step - accuracy: 0.3998 - loss: 2.1747 - val_accuracy: 0.3674 - val_loss: 2.5001 - learning_rate: 0.0010\n",
            "Epoch 29/100\n",
            "\u001b[1m147/147\u001b[0m \u001b[32m━━━━━━━━━━━━━━━━━━━━\u001b[0m\u001b[37m\u001b[0m \u001b[1m41s\u001b[0m 207ms/step - accuracy: 0.4066 - loss: 2.1206 - val_accuracy: 0.3752 - val_loss: 2.4471 - learning_rate: 0.0010\n",
            "Epoch 30/100\n",
            "\u001b[1m147/147\u001b[0m \u001b[32m━━━━━━━━━━━━━━━━━━━━\u001b[0m\u001b[37m\u001b[0m \u001b[1m41s\u001b[0m 208ms/step - accuracy: 0.4135 - loss: 2.0670 - val_accuracy: 0.3817 - val_loss: 2.3991 - learning_rate: 0.0010\n",
            "Epoch 31/100\n",
            "\u001b[1m147/147\u001b[0m \u001b[32m━━━━━━━━━━━━━━━━━━━━\u001b[0m\u001b[37m\u001b[0m \u001b[1m42s\u001b[0m 215ms/step - accuracy: 0.4207 - loss: 2.0131 - val_accuracy: 0.3881 - val_loss: 2.3486 - learning_rate: 0.0010\n",
            "Epoch 32/100\n",
            "\u001b[1m147/147\u001b[0m \u001b[32m━━━━━━━━━━━━━━━━━━━━\u001b[0m\u001b[37m\u001b[0m \u001b[1m41s\u001b[0m 219ms/step - accuracy: 0.4280 - loss: 1.9612 - val_accuracy: 0.3954 - val_loss: 2.3034 - learning_rate: 0.0010\n",
            "Epoch 33/100\n",
            "\u001b[1m147/147\u001b[0m \u001b[32m━━━━━━━━━━━━━━━━━━━━\u001b[0m\u001b[37m\u001b[0m \u001b[1m30s\u001b[0m 207ms/step - accuracy: 0.4349 - loss: 1.9153 - val_accuracy: 0.4007 - val_loss: 2.2622 - learning_rate: 0.0010\n",
            "Epoch 34/100\n",
            "\u001b[1m147/147\u001b[0m \u001b[32m━━━━━━━━━━━━━━━━━━━━\u001b[0m\u001b[37m\u001b[0m \u001b[1m42s\u001b[0m 213ms/step - accuracy: 0.4416 - loss: 1.8699 - val_accuracy: 0.4071 - val_loss: 2.2188 - learning_rate: 0.0010\n",
            "Epoch 35/100\n",
            "\u001b[1m147/147\u001b[0m \u001b[32m━━━━━━━━━━━━━━━━━━━━\u001b[0m\u001b[37m\u001b[0m \u001b[1m41s\u001b[0m 216ms/step - accuracy: 0.4473 - loss: 1.8240 - val_accuracy: 0.4117 - val_loss: 2.1806 - learning_rate: 0.0010\n",
            "Epoch 36/100\n",
            "\u001b[1m147/147\u001b[0m \u001b[32m━━━━━━━━━━━━━━━━━━━━\u001b[0m\u001b[37m\u001b[0m \u001b[1m42s\u001b[0m 223ms/step - accuracy: 0.4533 - loss: 1.7837 - val_accuracy: 0.4184 - val_loss: 2.1411 - learning_rate: 0.0010\n",
            "Epoch 37/100\n",
            "\u001b[1m147/147\u001b[0m \u001b[32m━━━━━━━━━━━━━━━━━━━━\u001b[0m\u001b[37m\u001b[0m \u001b[1m40s\u001b[0m 217ms/step - accuracy: 0.4587 - loss: 1.7424 - val_accuracy: 0.4232 - val_loss: 2.1013 - learning_rate: 0.0010\n",
            "Epoch 38/100\n",
            "\u001b[1m147/147\u001b[0m \u001b[32m━━━━━━━━━━━━━━━━━━━━\u001b[0m\u001b[37m\u001b[0m \u001b[1m40s\u001b[0m 211ms/step - accuracy: 0.4650 - loss: 1.6990 - val_accuracy: 0.4290 - val_loss: 2.0661 - learning_rate: 0.0010\n",
            "Epoch 39/100\n",
            "\u001b[1m147/147\u001b[0m \u001b[32m━━━━━━━━━━━━━━━━━━━━\u001b[0m\u001b[37m\u001b[0m \u001b[1m41s\u001b[0m 214ms/step - accuracy: 0.4713 - loss: 1.6601 - val_accuracy: 0.4349 - val_loss: 2.0331 - learning_rate: 0.0010\n",
            "Epoch 40/100\n",
            "\u001b[1m147/147\u001b[0m \u001b[32m━━━━━━━━━━━━━━━━━━━━\u001b[0m\u001b[37m\u001b[0m \u001b[1m40s\u001b[0m 208ms/step - accuracy: 0.4757 - loss: 1.6246 - val_accuracy: 0.4402 - val_loss: 1.9991 - learning_rate: 0.0010\n",
            "Epoch 41/100\n",
            "\u001b[1m147/147\u001b[0m \u001b[32m━━━━━━━━━━━━━━━━━━━━\u001b[0m\u001b[37m\u001b[0m \u001b[1m32s\u001b[0m 214ms/step - accuracy: 0.4814 - loss: 1.5875 - val_accuracy: 0.4454 - val_loss: 1.9662 - learning_rate: 0.0010\n",
            "Epoch 42/100\n",
            "\u001b[1m147/147\u001b[0m \u001b[32m━━━━━━━━━━━━━━━━━━━━\u001b[0m\u001b[37m\u001b[0m \u001b[1m40s\u001b[0m 209ms/step - accuracy: 0.4869 - loss: 1.5534 - val_accuracy: 0.4498 - val_loss: 1.9383 - learning_rate: 0.0010\n",
            "Epoch 43/100\n",
            "\u001b[1m147/147\u001b[0m \u001b[32m━━━━━━━━━━━━━━━━━━━━\u001b[0m\u001b[37m\u001b[0m \u001b[1m41s\u001b[0m 210ms/step - accuracy: 0.4909 - loss: 1.5170 - val_accuracy: 0.4538 - val_loss: 1.9027 - learning_rate: 0.0010\n",
            "Epoch 44/100\n",
            "\u001b[1m147/147\u001b[0m \u001b[32m━━━━━━━━━━━━━━━━━━━━\u001b[0m\u001b[37m\u001b[0m \u001b[1m41s\u001b[0m 212ms/step - accuracy: 0.4969 - loss: 1.4840 - val_accuracy: 0.4577 - val_loss: 1.8760 - learning_rate: 0.0010\n",
            "Epoch 45/100\n",
            "\u001b[1m147/147\u001b[0m \u001b[32m━━━━━━━━━━━━━━━━━━━━\u001b[0m\u001b[37m\u001b[0m \u001b[1m41s\u001b[0m 210ms/step - accuracy: 0.5016 - loss: 1.4527 - val_accuracy: 0.4623 - val_loss: 1.8491 - learning_rate: 0.0010\n",
            "Epoch 46/100\n",
            "\u001b[1m147/147\u001b[0m \u001b[32m━━━━━━━━━━━━━━━━━━━━\u001b[0m\u001b[37m\u001b[0m \u001b[1m42s\u001b[0m 217ms/step - accuracy: 0.5071 - loss: 1.4191 - val_accuracy: 0.4672 - val_loss: 1.8202 - learning_rate: 0.0010\n",
            "Epoch 47/100\n",
            "\u001b[1m147/147\u001b[0m \u001b[32m━━━━━━━━━━━━━━━━━━━━\u001b[0m\u001b[37m\u001b[0m \u001b[1m40s\u001b[0m 207ms/step - accuracy: 0.5110 - loss: 1.3891 - val_accuracy: 0.4723 - val_loss: 1.7919 - learning_rate: 0.0010\n",
            "Epoch 48/100\n",
            "\u001b[1m147/147\u001b[0m \u001b[32m━━━━━━━━━━━━━━━━━━━━\u001b[0m\u001b[37m\u001b[0m \u001b[1m41s\u001b[0m 212ms/step - accuracy: 0.5159 - loss: 1.3611 - val_accuracy: 0.4758 - val_loss: 1.7668 - learning_rate: 0.0010\n",
            "Epoch 49/100\n",
            "\u001b[1m147/147\u001b[0m \u001b[32m━━━━━━━━━━━━━━━━━━━━\u001b[0m\u001b[37m\u001b[0m \u001b[1m31s\u001b[0m 212ms/step - accuracy: 0.5202 - loss: 1.3278 - val_accuracy: 0.4802 - val_loss: 1.7424 - learning_rate: 0.0010\n",
            "Epoch 50/100\n",
            "\u001b[1m147/147\u001b[0m \u001b[32m━━━━━━━━━━━━━━━━━━━━\u001b[0m\u001b[37m\u001b[0m \u001b[1m41s\u001b[0m 215ms/step - accuracy: 0.5240 - loss: 1.3015 - val_accuracy: 0.4837 - val_loss: 1.7161 - learning_rate: 0.0010\n",
            "Epoch 51/100\n",
            "\u001b[1m147/147\u001b[0m \u001b[32m━━━━━━━━━━━━━━━━━━━━\u001b[0m\u001b[37m\u001b[0m \u001b[1m41s\u001b[0m 216ms/step - accuracy: 0.5291 - loss: 1.2757 - val_accuracy: 0.4881 - val_loss: 1.6982 - learning_rate: 0.0010\n",
            "Epoch 52/100\n",
            "\u001b[1m147/147\u001b[0m \u001b[32m━━━━━━━━━━━━━━━━━━━━\u001b[0m\u001b[37m\u001b[0m \u001b[1m39s\u001b[0m 205ms/step - accuracy: 0.5337 - loss: 1.2457 - val_accuracy: 0.4932 - val_loss: 1.6709 - learning_rate: 0.0010\n",
            "Epoch 53/100\n",
            "\u001b[1m147/147\u001b[0m \u001b[32m━━━━━━━━━━━━━━━━━━━━\u001b[0m\u001b[37m\u001b[0m \u001b[1m41s\u001b[0m 206ms/step - accuracy: 0.5364 - loss: 1.2224 - val_accuracy: 0.4967 - val_loss: 1.6490 - learning_rate: 0.0010\n",
            "Epoch 54/100\n",
            "\u001b[1m147/147\u001b[0m \u001b[32m━━━━━━━━━━━━━━━━━━━━\u001b[0m\u001b[37m\u001b[0m \u001b[1m31s\u001b[0m 209ms/step - accuracy: 0.5406 - loss: 1.1944 - val_accuracy: 0.5001 - val_loss: 1.6295 - learning_rate: 0.0010\n",
            "Epoch 55/100\n",
            "\u001b[1m147/147\u001b[0m \u001b[32m━━━━━━━━━━━━━━━━━━━━\u001b[0m\u001b[37m\u001b[0m \u001b[1m41s\u001b[0m 211ms/step - accuracy: 0.5445 - loss: 1.1709 - val_accuracy: 0.5042 - val_loss: 1.6081 - learning_rate: 0.0010\n",
            "Epoch 56/100\n",
            "\u001b[1m147/147\u001b[0m \u001b[32m━━━━━━━━━━━━━━━━━━━━\u001b[0m\u001b[37m\u001b[0m \u001b[1m41s\u001b[0m 210ms/step - accuracy: 0.5482 - loss: 1.1468 - val_accuracy: 0.5072 - val_loss: 1.5887 - learning_rate: 0.0010\n",
            "Epoch 57/100\n",
            "\u001b[1m147/147\u001b[0m \u001b[32m━━━━━━━━━━━━━━━━━━━━\u001b[0m\u001b[37m\u001b[0m \u001b[1m31s\u001b[0m 211ms/step - accuracy: 0.5518 - loss: 1.1216 - val_accuracy: 0.5115 - val_loss: 1.5654 - learning_rate: 0.0010\n",
            "Epoch 58/100\n",
            "\u001b[1m147/147\u001b[0m \u001b[32m━━━━━━━━━━━━━━━━━━━━\u001b[0m\u001b[37m\u001b[0m \u001b[1m40s\u001b[0m 207ms/step - accuracy: 0.5556 - loss: 1.0961 - val_accuracy: 0.5144 - val_loss: 1.5513 - learning_rate: 0.0010\n",
            "Epoch 59/100\n",
            "\u001b[1m147/147\u001b[0m \u001b[32m━━━━━━━━━━━━━━━━━━━━\u001b[0m\u001b[37m\u001b[0m \u001b[1m43s\u001b[0m 220ms/step - accuracy: 0.5537 - loss: 1.1157 - val_accuracy: 0.5192 - val_loss: 1.5311 - learning_rate: 0.0010\n",
            "Epoch 60/100\n",
            "\u001b[1m147/147\u001b[0m \u001b[32m━━━━━━━━━━━━━━━━━━━━\u001b[0m\u001b[37m\u001b[0m \u001b[1m41s\u001b[0m 219ms/step - accuracy: 0.5622 - loss: 1.0588 - val_accuracy: 0.5233 - val_loss: 1.5117 - learning_rate: 0.0010\n",
            "Epoch 61/100\n",
            "\u001b[1m147/147\u001b[0m \u001b[32m━━━━━━━━━━━━━━━━━━━━\u001b[0m\u001b[37m\u001b[0m \u001b[1m40s\u001b[0m 210ms/step - accuracy: 0.5659 - loss: 1.0341 - val_accuracy: 0.5250 - val_loss: 1.4934 - learning_rate: 0.0010\n",
            "Epoch 62/100\n",
            "\u001b[1m147/147\u001b[0m \u001b[32m━━━━━━━━━━━━━━━━━━━━\u001b[0m\u001b[37m\u001b[0m \u001b[1m41s\u001b[0m 212ms/step - accuracy: 0.5686 - loss: 1.0155 - val_accuracy: 0.5289 - val_loss: 1.4777 - learning_rate: 0.0010\n",
            "Epoch 63/100\n",
            "\u001b[1m147/147\u001b[0m \u001b[32m━━━━━━━━━━━━━━━━━━━━\u001b[0m\u001b[37m\u001b[0m \u001b[1m40s\u001b[0m 205ms/step - accuracy: 0.5725 - loss: 0.9919 - val_accuracy: 0.5320 - val_loss: 1.4585 - learning_rate: 0.0010\n",
            "Epoch 64/100\n",
            "\u001b[1m147/147\u001b[0m \u001b[32m━━━━━━━━━━━━━━━━━━━━\u001b[0m\u001b[37m\u001b[0m \u001b[1m41s\u001b[0m 204ms/step - accuracy: 0.5764 - loss: 0.9733 - val_accuracy: 0.5354 - val_loss: 1.4412 - learning_rate: 0.0010\n",
            "Epoch 65/100\n",
            "\u001b[1m147/147\u001b[0m \u001b[32m━━━━━━━━━━━━━━━━━━━━\u001b[0m\u001b[37m\u001b[0m \u001b[1m31s\u001b[0m 214ms/step - accuracy: 0.5789 - loss: 0.9531 - val_accuracy: 0.5382 - val_loss: 1.4291 - learning_rate: 0.0010\n",
            "Epoch 66/100\n",
            "\u001b[1m147/147\u001b[0m \u001b[32m━━━━━━━━━━━━━━━━━━━━\u001b[0m\u001b[37m\u001b[0m \u001b[1m40s\u001b[0m 208ms/step - accuracy: 0.5826 - loss: 0.9341 - val_accuracy: 0.5407 - val_loss: 1.4138 - learning_rate: 0.0010\n",
            "Epoch 67/100\n",
            "\u001b[1m147/147\u001b[0m \u001b[32m━━━━━━━━━━━━━━━━━━━━\u001b[0m\u001b[37m\u001b[0m \u001b[1m40s\u001b[0m 203ms/step - accuracy: 0.5841 - loss: 0.9176 - val_accuracy: 0.5443 - val_loss: 1.3963 - learning_rate: 0.0010\n",
            "Epoch 68/100\n",
            "\u001b[1m147/147\u001b[0m \u001b[32m━━━━━━━━━━━━━━━━━━━━\u001b[0m\u001b[37m\u001b[0m \u001b[1m41s\u001b[0m 206ms/step - accuracy: 0.5875 - loss: 0.9010 - val_accuracy: 0.5473 - val_loss: 1.3822 - learning_rate: 0.0010\n",
            "Epoch 69/100\n",
            "\u001b[1m147/147\u001b[0m \u001b[32m━━━━━━━━━━━━━━━━━━━━\u001b[0m\u001b[37m\u001b[0m \u001b[1m42s\u001b[0m 212ms/step - accuracy: 0.5905 - loss: 0.8842 - val_accuracy: 0.5504 - val_loss: 1.3683 - learning_rate: 0.0010\n",
            "Epoch 70/100\n",
            "\u001b[1m147/147\u001b[0m \u001b[32m━━━━━━━━━━━━━━━━━━━━\u001b[0m\u001b[37m\u001b[0m \u001b[1m43s\u001b[0m 223ms/step - accuracy: 0.5929 - loss: 0.8642 - val_accuracy: 0.5536 - val_loss: 1.3536 - learning_rate: 0.0010\n",
            "Epoch 71/100\n",
            "\u001b[1m147/147\u001b[0m \u001b[32m━━━━━━━━━━━━━━━━━━━━\u001b[0m\u001b[37m\u001b[0m \u001b[1m40s\u001b[0m 216ms/step - accuracy: 0.5963 - loss: 0.8474 - val_accuracy: 0.5551 - val_loss: 1.3423 - learning_rate: 0.0010\n",
            "Epoch 72/100\n",
            "\u001b[1m147/147\u001b[0m \u001b[32m━━━━━━━━━━━━━━━━━━━━\u001b[0m\u001b[37m\u001b[0m \u001b[1m40s\u001b[0m 212ms/step - accuracy: 0.5979 - loss: 0.8333 - val_accuracy: 0.5589 - val_loss: 1.3265 - learning_rate: 0.0010\n",
            "Epoch 73/100\n",
            "\u001b[1m147/147\u001b[0m \u001b[32m━━━━━━━━━━━━━━━━━━━━\u001b[0m\u001b[37m\u001b[0m \u001b[1m41s\u001b[0m 210ms/step - accuracy: 0.6008 - loss: 0.8183 - val_accuracy: 0.5612 - val_loss: 1.3151 - learning_rate: 0.0010\n",
            "Epoch 74/100\n",
            "\u001b[1m147/147\u001b[0m \u001b[32m━━━━━━━━━━━━━━━━━━━━\u001b[0m\u001b[37m\u001b[0m \u001b[1m41s\u001b[0m 214ms/step - accuracy: 0.6032 - loss: 0.8021 - val_accuracy: 0.5640 - val_loss: 1.3021 - learning_rate: 0.0010\n",
            "Epoch 75/100\n",
            "\u001b[1m147/147\u001b[0m \u001b[32m━━━━━━━━━━━━━━━━━━━━\u001b[0m\u001b[37m\u001b[0m \u001b[1m32s\u001b[0m 218ms/step - accuracy: 0.6050 - loss: 0.7894 - val_accuracy: 0.5658 - val_loss: 1.2885 - learning_rate: 0.0010\n",
            "Epoch 76/100\n",
            "\u001b[1m147/147\u001b[0m \u001b[32m━━━━━━━━━━━━━━━━━━━━\u001b[0m\u001b[37m\u001b[0m \u001b[1m41s\u001b[0m 220ms/step - accuracy: 0.6076 - loss: 0.7733 - val_accuracy: 0.5683 - val_loss: 1.2788 - learning_rate: 0.0010\n",
            "Epoch 77/100\n",
            "\u001b[1m147/147\u001b[0m \u001b[32m━━━━━━━━━━━━━━━━━━━━\u001b[0m\u001b[37m\u001b[0m \u001b[1m31s\u001b[0m 213ms/step - accuracy: 0.6112 - loss: 0.7586 - val_accuracy: 0.5710 - val_loss: 1.2648 - learning_rate: 0.0010\n",
            "Epoch 78/100\n",
            "\u001b[1m147/147\u001b[0m \u001b[32m━━━━━━━━━━━━━━━━━━━━\u001b[0m\u001b[37m\u001b[0m \u001b[1m40s\u001b[0m 207ms/step - accuracy: 0.6133 - loss: 0.7459 - val_accuracy: 0.5745 - val_loss: 1.2565 - learning_rate: 0.0010\n",
            "Epoch 79/100\n",
            "\u001b[1m147/147\u001b[0m \u001b[32m━━━━━━━━━━━━━━━━━━━━\u001b[0m\u001b[37m\u001b[0m \u001b[1m43s\u001b[0m 220ms/step - accuracy: 0.6151 - loss: 0.7332 - val_accuracy: 0.5758 - val_loss: 1.2459 - learning_rate: 0.0010\n",
            "Epoch 80/100\n",
            "\u001b[1m147/147\u001b[0m \u001b[32m━━━━━━━━━━━━━━━━━━━━\u001b[0m\u001b[37m\u001b[0m \u001b[1m41s\u001b[0m 221ms/step - accuracy: 0.6176 - loss: 0.7192 - val_accuracy: 0.5791 - val_loss: 1.2341 - learning_rate: 0.0010\n",
            "Epoch 81/100\n",
            "\u001b[1m147/147\u001b[0m \u001b[32m━━━━━━━━━━━━━━━━━━━━\u001b[0m\u001b[37m\u001b[0m \u001b[1m32s\u001b[0m 216ms/step - accuracy: 0.6194 - loss: 0.7049 - val_accuracy: 0.5801 - val_loss: 1.2237 - learning_rate: 0.0010\n",
            "Epoch 82/100\n",
            "\u001b[1m147/147\u001b[0m \u001b[32m━━━━━━━━━━━━━━━━━━━━\u001b[0m\u001b[37m\u001b[0m \u001b[1m40s\u001b[0m 211ms/step - accuracy: 0.6216 - loss: 0.6933 - val_accuracy: 0.5820 - val_loss: 1.2155 - learning_rate: 0.0010\n",
            "Epoch 83/100\n",
            "\u001b[1m147/147\u001b[0m \u001b[32m━━━━━━━━━━━━━━━━━━━━\u001b[0m\u001b[37m\u001b[0m \u001b[1m32s\u001b[0m 221ms/step - accuracy: 0.6240 - loss: 0.6798 - val_accuracy: 0.5848 - val_loss: 1.2033 - learning_rate: 0.0010\n",
            "Epoch 84/100\n",
            "\u001b[1m147/147\u001b[0m \u001b[32m━━━━━━━━━━━━━━━━━━━━\u001b[0m\u001b[37m\u001b[0m \u001b[1m31s\u001b[0m 213ms/step - accuracy: 0.6258 - loss: 0.6695 - val_accuracy: 0.5863 - val_loss: 1.1956 - learning_rate: 0.0010\n",
            "Epoch 85/100\n",
            "\u001b[1m147/147\u001b[0m \u001b[32m━━━━━━━━━━━━━━━━━━━━\u001b[0m\u001b[37m\u001b[0m \u001b[1m40s\u001b[0m 207ms/step - accuracy: 0.6280 - loss: 0.6556 - val_accuracy: 0.5874 - val_loss: 1.1898 - learning_rate: 0.0010\n",
            "Epoch 86/100\n",
            "\u001b[1m147/147\u001b[0m \u001b[32m━━━━━━━━━━━━━━━━━━━━\u001b[0m\u001b[37m\u001b[0m \u001b[1m32s\u001b[0m 218ms/step - accuracy: 0.6290 - loss: 0.6468 - val_accuracy: 0.5897 - val_loss: 1.1774 - learning_rate: 0.0010\n",
            "Epoch 87/100\n",
            "\u001b[1m147/147\u001b[0m \u001b[32m━━━━━━━━━━━━━━━━━━━━\u001b[0m\u001b[37m\u001b[0m \u001b[1m31s\u001b[0m 214ms/step - accuracy: 0.6311 - loss: 0.6337 - val_accuracy: 0.5916 - val_loss: 1.1695 - learning_rate: 0.0010\n",
            "Epoch 88/100\n",
            "\u001b[1m147/147\u001b[0m \u001b[32m━━━━━━━━━━━━━━━━━━━━\u001b[0m\u001b[37m\u001b[0m \u001b[1m31s\u001b[0m 213ms/step - accuracy: 0.6330 - loss: 0.6229 - val_accuracy: 0.5933 - val_loss: 1.1629 - learning_rate: 0.0010\n",
            "Epoch 89/100\n",
            "\u001b[1m147/147\u001b[0m \u001b[32m━━━━━━━━━━━━━━━━━━━━\u001b[0m\u001b[37m\u001b[0m \u001b[1m41s\u001b[0m 211ms/step - accuracy: 0.6344 - loss: 0.6131 - val_accuracy: 0.5946 - val_loss: 1.1531 - learning_rate: 0.0010\n",
            "Epoch 90/100\n",
            "\u001b[1m147/147\u001b[0m \u001b[32m━━━━━━━━━━━━━━━━━━━━\u001b[0m\u001b[37m\u001b[0m \u001b[1m31s\u001b[0m 213ms/step - accuracy: 0.6368 - loss: 0.6023 - val_accuracy: 0.5966 - val_loss: 1.1476 - learning_rate: 0.0010\n",
            "Epoch 91/100\n",
            "\u001b[1m147/147\u001b[0m \u001b[32m━━━━━━━━━━━━━━━━━━━━\u001b[0m\u001b[37m\u001b[0m \u001b[1m31s\u001b[0m 209ms/step - accuracy: 0.6384 - loss: 0.5934 - val_accuracy: 0.5991 - val_loss: 1.1403 - learning_rate: 0.0010\n",
            "Epoch 92/100\n",
            "\u001b[1m147/147\u001b[0m \u001b[32m━━━━━━━━━━━━━━━━━━━━\u001b[0m\u001b[37m\u001b[0m \u001b[1m42s\u001b[0m 216ms/step - accuracy: 0.6407 - loss: 0.5803 - val_accuracy: 0.6010 - val_loss: 1.1302 - learning_rate: 0.0010\n",
            "Epoch 93/100\n",
            "\u001b[1m147/147\u001b[0m \u001b[32m━━━━━━━━━━━━━━━━━━━━\u001b[0m\u001b[37m\u001b[0m \u001b[1m41s\u001b[0m 215ms/step - accuracy: 0.6429 - loss: 0.5707 - val_accuracy: 0.6012 - val_loss: 1.1267 - learning_rate: 0.0010\n",
            "Epoch 94/100\n",
            "\u001b[1m147/147\u001b[0m \u001b[32m━━━━━━━━━━━━━━━━━━━━\u001b[0m\u001b[37m\u001b[0m \u001b[1m31s\u001b[0m 210ms/step - accuracy: 0.6425 - loss: 0.5659 - val_accuracy: 0.6033 - val_loss: 1.1206 - learning_rate: 0.0010\n",
            "Epoch 95/100\n",
            "\u001b[1m147/147\u001b[0m \u001b[32m━━━━━━━━━━━━━━━━━━━━\u001b[0m\u001b[37m\u001b[0m \u001b[1m41s\u001b[0m 211ms/step - accuracy: 0.6444 - loss: 0.5569 - val_accuracy: 0.6057 - val_loss: 1.1084 - learning_rate: 0.0010\n",
            "Epoch 96/100\n",
            "\u001b[1m147/147\u001b[0m \u001b[32m━━━━━━━━━━━━━━━━━━━━\u001b[0m\u001b[37m\u001b[0m \u001b[1m42s\u001b[0m 217ms/step - accuracy: 0.6463 - loss: 0.5475 - val_accuracy: 0.6065 - val_loss: 1.1054 - learning_rate: 0.0010\n",
            "Epoch 97/100\n",
            "\u001b[1m147/147\u001b[0m \u001b[32m━━━━━━━━━━━━━━━━━━━━\u001b[0m\u001b[37m\u001b[0m \u001b[1m41s\u001b[0m 219ms/step - accuracy: 0.6479 - loss: 0.5380 - val_accuracy: 0.6091 - val_loss: 1.0968 - learning_rate: 0.0010\n",
            "Epoch 98/100\n",
            "\u001b[1m147/147\u001b[0m \u001b[32m━━━━━━━━━━━━━━━━━━━━\u001b[0m\u001b[37m\u001b[0m \u001b[1m42s\u001b[0m 225ms/step - accuracy: 0.6475 - loss: 0.5342 - val_accuracy: 0.6092 - val_loss: 1.0926 - learning_rate: 0.0010\n",
            "Epoch 99/100\n",
            "\u001b[1m147/147\u001b[0m \u001b[32m━━━━━━━━━━━━━━━━━━━━\u001b[0m\u001b[37m\u001b[0m \u001b[1m39s\u001b[0m 215ms/step - accuracy: 0.6500 - loss: 0.5245 - val_accuracy: 0.6114 - val_loss: 1.0886 - learning_rate: 0.0010\n",
            "Epoch 100/100\n",
            "\u001b[1m147/147\u001b[0m \u001b[32m━━━━━━━━━━━━━━━━━━━━\u001b[0m\u001b[37m\u001b[0m \u001b[1m31s\u001b[0m 209ms/step - accuracy: 0.6526 - loss: 0.5132 - val_accuracy: 0.6142 - val_loss: 1.0786 - learning_rate: 0.0010\n",
            "Restoring model weights from the end of the best epoch: 100.\n"
          ]
        }
      ]
    },
    {
      "cell_type": "markdown",
      "source": [
        "#💾  Guardado del modelo y tokenizer\n"
      ],
      "metadata": {
        "id": "f8e2U7lLizVt"
      }
    },
    {
      "cell_type": "code",
      "source": [
        "model.save(\"/content/drive/MyDrive/Entrega_3/modelo_lstm_seq2seq.keras\")\n",
        "with open(\"/content/drive/MyDrive/Entrega_3/tokenizer_quijote.pkl\", \"wb\") as f:\n",
        "    pickle.dump(tokenizer, f)\n",
        "print(\"✅ Modelo y tokenizer guardados\")"
      ],
      "metadata": {
        "id": "qlZNKDPAi2BE",
        "colab": {
          "base_uri": "https://localhost:8080/"
        },
        "outputId": "f66e8de5-f34b-49ab-a9e2-c4b73d6b790a"
      },
      "execution_count": 9,
      "outputs": [
        {
          "output_type": "stream",
          "name": "stdout",
          "text": [
            "✅ Modelo y tokenizer guardados\n"
          ]
        }
      ]
    },
    {
      "cell_type": "markdown",
      "source": [
        "#🧠  Modelos de inferencia para generación de"
      ],
      "metadata": {
        "id": "r-Y0X51qi4Er"
      }
    },
    {
      "cell_type": "code",
      "source": [
        "encoder_model = Model(enc_inputs, enc_states)\n",
        "\n",
        "dec_state_input_h = Input(shape=(256,))\n",
        "dec_state_input_c = Input(shape=(256,))\n",
        "dec_states_inputs = [dec_state_input_h, dec_state_input_c]\n",
        "dec_input_single = Input(shape=(1,))\n",
        "dec_emb_inf = dec_emb_layer(dec_input_single)\n",
        "dec_outputs_inf, state_h_inf, state_c_inf = dec_lstm(dec_emb_inf, initial_state=dec_states_inputs)\n",
        "dec_outputs_final = dec_dense(dec_outputs_inf)\n",
        "\n",
        "decoder_model = Model(\n",
        "    [dec_input_single] + dec_states_inputs,\n",
        "    [dec_outputs_final, state_h_inf, state_c_inf]\n",
        ")\n"
      ],
      "metadata": {
        "id": "4Pc16rK4i3GG"
      },
      "execution_count": 10,
      "outputs": []
    },
    {
      "cell_type": "markdown",
      "source": [
        "#🎭  Demo de generación de frases\n",
        "\n"
      ],
      "metadata": {
        "id": "pSf6cCexjCI5"
      }
    },
    {
      "cell_type": "code",
      "source": [
        "def generar_frase_siguiente(frase_input, temperatura=1.0, max_tokens=20):\n",
        "    # Tokeniza la entrada\n",
        "    seq_in = tokenizer.texts_to_sequences([frase_input])\n",
        "    seq_in = pad_sequences(seq_in, maxlen=max_len_in, padding='post')\n",
        "\n",
        "    # Secuencia del decoder comienza con <start>\n",
        "    start_token = tokenizer.word_index.get('startseq', tokenizer.word_index.get('<START>', None))\n",
        "    end_token = tokenizer.word_index.get('endseq', tokenizer.word_index.get('<END>', None))\n",
        "    if start_token is None or end_token is None:\n",
        "        raise ValueError(\"No se encontraron los tokens <start> o <end> en el tokenizer.\")\n",
        "\n",
        "    seq_out = [start_token]\n",
        "\n",
        "    for _ in range(max_tokens):\n",
        "        # Prepara entrada decoder: pad a max_len_out - 1\n",
        "        dec_in = pad_sequences([seq_out], maxlen=max_len_out - 1, padding='post')\n",
        "\n",
        "        # Predice distribución\n",
        "        preds = model.predict([seq_in, dec_in], verbose=0)\n",
        "        next_token_logits = preds[0, len(seq_out)-1]\n",
        "\n",
        "        # Ajusta temperatura\n",
        "        next_token_logits = np.log(next_token_logits + 1e-8) / temperatura\n",
        "        exp_preds = np.exp(next_token_logits)\n",
        "        next_token_probs = exp_preds / np.sum(exp_preds)\n",
        "\n",
        "        # Muestrea\n",
        "        next_token = np.random.choice(len(next_token_probs), p=next_token_probs)\n",
        "\n",
        "        if next_token == end_token or next_token == 0:\n",
        "            break\n",
        "\n",
        "        seq_out.append(next_token)\n",
        "\n",
        "    # Decodifica tokens a palabras\n",
        "    inv_map = {v: k for k, v in tokenizer.word_index.items()}\n",
        "    output_words = [inv_map.get(i, '') for i in seq_out[1:]]\n",
        "    return ' '.join(output_words)"
      ],
      "metadata": {
        "id": "B94h9qOEjEPH"
      },
      "execution_count": 16,
      "outputs": []
    },
    {
      "cell_type": "markdown",
      "source": [
        "#✏️  Función de generación de frases\n",
        "\n"
      ],
      "metadata": {
        "id": "VxJZL1j8i64j"
      }
    },
    {
      "cell_type": "code",
      "source": [
        "print(\"\\n🎭 DEMO DE FRASES GENERADAS\")\n",
        "semillas = [\n",
        "    \"Don Quijote de la Mancha salio de su aldea\",\n",
        "    \"Sancho Panza monto sobre su asno\",\n",
        "    \"En un lugar de la Mancha vivia un hidalgo\",\n",
        "    \"La hermosa Dulcinea del Toboso era su dama\",\n",
        "    \"El ingenioso hidalgo emprendio su aventura\"\n",
        "]\n",
        "for frase in semillas:\n",
        "    print(f\"\\n🌱 Entrada: {frase}\")\n",
        "    for t in [0.5, 0.8, 1.0]:\n",
        "        print(f\"   🎯 T={t}: {generar_frase_siguiente(frase, temperatura=t)}\")\n"
      ],
      "metadata": {
        "id": "Ms1MNiJwjAFQ",
        "colab": {
          "base_uri": "https://localhost:8080/"
        },
        "outputId": "78d8cfae-814b-404a-dcc4-aefa5228d351"
      },
      "execution_count": 17,
      "outputs": [
        {
          "output_type": "stream",
          "name": "stdout",
          "text": [
            "\n",
            "🎭 DEMO DE FRASES GENERADAS\n",
            "\n",
            "🌱 Entrada: Don Quijote de la Mancha salio de su aldea\n",
            "   🎯 T=0.5: con esto, se despidio del duque, y se volvio a su lugar, esperando en el a don quijote, que tras\n",
            "   🎯 T=0.8: -y, en fin, hablando en <UNK> un sordo estruendo y un <UNK> que por <UNK>\n",
            "   🎯 T=1.0: volvio de los que temer entonces esta <UNK> en los limites de vuestra merced <UNK> su <UNK>\n",
            "\n",
            "🌱 Entrada: Sancho Panza monto sobre su asno\n",
            "   🎯 T=0.5: y mando que alli, delante de todos, se <UNK> y <UNK> la <UNK>\n",
            "   🎯 T=0.8: y digame agora: cual dona rodriguez -dijo don quijote-, y dios te quiero decir gracia hijo la <UNK>\n",
            "   🎯 T=1.0: y digame vuestra merced: este libro, aqui <UNK>\n",
            "\n",
            "🌱 Entrada: En un lugar de la Mancha vivia un hidalgo\n",
            "   🎯 T=0.5: <UNK> con licencia buena de vuestra merced.\n",
            "   🎯 T=0.8: <UNK> -dijo don quijote-, para que vida <UNK>\n",
            "   🎯 T=1.0: oyendo lo cual por vuestra merced ahora <UNK> no se quien fue <UNK> de no <UNK> errar en nada.\n",
            "\n",
            "🌱 Entrada: La hermosa Dulcinea del Toboso era su dama\n",
            "   🎯 T=0.5: ; por ventura, que no cris, el escurecerse esos dos luminares mayores -dijo don quijote.\n",
            "   🎯 T=0.8: ; quien mas invencible que roldan?\n",
            "   🎯 T=1.0: ; por las alforjas hilas y unguento.\n",
            "\n",
            "🌱 Entrada: El ingenioso hidalgo emprendio su aventura\n",
            "   🎯 T=0.5: y sancho le respondio que era largo de contar, pero que el se lo <UNK> si acaso iban un mesmo\n",
            "   🎯 T=0.8: y dijo que alli, delante de todos, se <UNK>\n",
            "   🎯 T=1.0: don quijote le decia: <UNK> <UNK>\n"
          ]
        }
      ]
    },
    {
      "cell_type": "markdown",
      "source": [
        "#📚  Prueba con fragmentos realistas\n"
      ],
      "metadata": {
        "id": "k2qjD987jGyW"
      }
    },
    {
      "cell_type": "code",
      "source": [
        "print(\"\\n📚 COMPARACIÓN: Completación de frases reales\")\n",
        "fragmentos_realistas = [\n",
        "    \"En un lugar de la Mancha\",\n",
        "    \"Don Quijote de la Mancha\",\n",
        "    \"Sancho Panza salio tras su amo\",\n",
        "    \"La hermosa Dulcinea del Toboso\"\n",
        "]\n",
        "for inicio in fragmentos_realistas:\n",
        "    print(f\"\\n🌱 Inicio: {inicio}\")\n",
        "    for t in [0.5, 0.8, 1.0]:\n",
        "        print(f\"   🎯 T={t}: {generar_frase_siguiente(inicio, temperatura=t)}\")\n"
      ],
      "metadata": {
        "id": "51yJ8ArJjJTY",
        "colab": {
          "base_uri": "https://localhost:8080/"
        },
        "outputId": "6cadc72e-82ec-4187-9238-5ae3cc283694"
      },
      "execution_count": 19,
      "outputs": [
        {
          "output_type": "stream",
          "name": "stdout",
          "text": [
            "\n",
            "📚 COMPARACIÓN: Completación de frases reales\n",
            "\n",
            "🌱 Inicio: En un lugar de la Mancha\n",
            "   🎯 T=0.5: -asi es la verdad -dijo dorotea-.\n",
            "   🎯 T=0.8: -ya os entiendo, sancho -respondio don quijote-: tu mueres porque te alce el entredicho que te tengo puesto en la\n",
            "   🎯 T=1.0: -asi se hara -respondio uno dellos.\n",
            "\n",
            "🌱 Inicio: Don Quijote de la Mancha\n",
            "   🎯 T=0.5: -asi me ha parecido a mi -respondio sancho-, aunque se decir que esta presente, no me dejara mentir.\n",
            "   🎯 T=0.8: -y ese ha parecido a mi senor miente -respondio sancho.\n",
            "   🎯 T=1.0: -y digame, senor, por mar, hidalgo por el diablo; y mientes que mira si otra dices cosa.\n",
            "\n",
            "🌱 Inicio: Sancho Panza salio tras su amo\n",
            "   🎯 T=0.5: en esto, entraron los tambores y el pifaro, como la vez primera.\n",
            "   🎯 T=0.8: en esto, entraron los tambores y el pifaro, como la vez primera.\n",
            "   🎯 T=1.0: en esto estaban, cuando se habia de contar, y que no se que tenga nada vuestro, maese pedro.\n",
            "\n",
            "🌱 Inicio: La hermosa Dulcinea del Toboso\n",
            "   🎯 T=0.5: -y ese reino es este que supiere.\n",
            "   🎯 T=0.8: y no le valieron tretas contra bernardo del carpio, que tienen cuidado destos valerosos caballeros.\n",
            "   🎯 T=1.0: tu mas que te mando mala ventura.\n"
          ]
        }
      ]
    },
    {
      "cell_type": "markdown",
      "source": [
        "#📊  Visualización de métricas\n"
      ],
      "metadata": {
        "id": "-qxaGuWUjMfE"
      }
    },
    {
      "cell_type": "code",
      "source": [
        "plt.figure(figsize=(12, 5))\n",
        "plt.subplot(1, 2, 1)\n",
        "plt.plot(history.history['accuracy'], label='Train Acc')\n",
        "plt.plot(history.history['val_accuracy'], label='Val Acc')\n",
        "plt.title(\"Precisión\")\n",
        "plt.legend(); plt.grid()\n",
        "\n",
        "plt.subplot(1, 2, 2)\n",
        "plt.plot(history.history['loss'], label='Train Loss')\n",
        "plt.plot(history.history['val_loss'], label='Val Loss')\n",
        "plt.title(\"Pérdida\")\n",
        "plt.legend(); plt.grid()\n",
        "plt.tight_layout()\n",
        "plt.show()\n"
      ],
      "metadata": {
        "id": "MUnQVtzljLi5",
        "colab": {
          "base_uri": "https://localhost:8080/",
          "height": 470
        },
        "outputId": "26712d8d-9fee-4738-b7fd-e5130d1d0226"
      },
      "execution_count": 20,
      "outputs": [
        {
          "output_type": "display_data",
          "data": {
            "text/plain": [
              "<Figure size 1200x500 with 2 Axes>"
            ],
            "image/png": "[encoded data removed]"
          },
          "metadata": {}
        }
      ]
    }
  ]
}