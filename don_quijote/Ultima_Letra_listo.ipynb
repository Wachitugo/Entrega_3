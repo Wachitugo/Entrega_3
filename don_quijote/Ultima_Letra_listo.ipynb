{
  "nbformat": 4,
  "nbformat_minor": 0,
  "metadata": {
    "colab": {
      "provenance": [],
      "gpuType": "T4"
    },
    "kernelspec": {
      "name": "python3",
      "display_name": "Python 3"
    },
    "language_info": {
      "name": "python"
    },
    "accelerator": "GPU"
  },
  "cells": [
    {
      "cell_type": "markdown",
      "source": [
        "#📦 Carga de librerías y configuración inicial\n",
        "\n"
      ],
      "metadata": {
        "id": "gl_gUI63fAvP"
      }
    },
    {
      "cell_type": "code",
      "source": [
        "import numpy as np\n",
        "import random\n",
        "import sys\n",
        "import tensorflow as tf\n",
        "from tensorflow.keras.preprocessing.sequence import pad_sequences\n",
        "from tensorflow.keras.models import Sequential\n",
        "from tensorflow.keras.layers import Embedding, LSTM, Dense, Dropout\n",
        "from tensorflow.keras.optimizers import Adam\n",
        "from tensorflow.keras.callbacks import LambdaCallback, ModelCheckpoint,  EarlyStopping, ReduceLROnPlateau\n",
        "\n",
        "try:\n",
        "    import unidecode\n",
        "except ImportError:\n",
        "    !pip install unidecode\n",
        "    import unidecode\n",
        "\n",
        "from google.colab import drive\n",
        "drive.mount('/content/drive')\n",
        "\n",
        "# Fijar semillas para reproducibilidad\n",
        "random.seed(42)\n",
        "np.random.seed(42)\n",
        "tf.random.set_seed(42)"
      ],
      "metadata": {
        "colab": {
          "base_uri": "https://localhost:8080/"
        },
        "id": "exFPPWzJfE09",
        "outputId": "55cafb38-5c3e-4dde-c989-af17f9581fd3"
      },
      "execution_count": null,
      "outputs": [
        {
          "output_type": "stream",
          "name": "stdout",
          "text": [
            "Collecting unidecode\n",
            "  Downloading Unidecode-1.4.0-py3-none-any.whl.metadata (13 kB)\n",
            "Downloading Unidecode-1.4.0-py3-none-any.whl (235 kB)\n",
            "\u001b[?25l   \u001b[90m━━━━━━━━━━━━━━━━━━━━━━━━━━━━━━━━━━━━━━━━\u001b[0m \u001b[32m0.0/235.8 kB\u001b[0m \u001b[31m?\u001b[0m eta \u001b[36m-:--:--\u001b[0m\r\u001b[2K   \u001b[90m━━━━━━━━━━━━━━━━━━━━━━━━━━━━━━━━━━━━━━━━\u001b[0m \u001b[32m235.8/235.8 kB\u001b[0m \u001b[31m7.2 MB/s\u001b[0m eta \u001b[36m0:00:00\u001b[0m\n",
            "\u001b[?25hInstalling collected packages: unidecode\n",
            "Successfully installed unidecode-1.4.0\n",
            "Mounted at /content/drive\n"
          ]
        }
      ]
    },
    {
      "cell_type": "markdown",
      "source": [
        "#🧼 Carga y preprocesamiento del texto\n"
      ],
      "metadata": {
        "id": "OajOpT9IfKpm"
      }
    },
    {
      "cell_type": "code",
      "source": [
        "def loadDocument(path):\n",
        "    with open(path, 'r', encoding='utf-8') as f:\n",
        "        return f.read().lower()\n",
        "\n",
        "def preprocess_text(filename):\n",
        "    raw_text = loadDocument(filename)\n",
        "    raw_text = unidecode.unidecode(raw_text)\n",
        "\n",
        "    # Limpiar caracteres no permitidos\n",
        "    allowed_chars = 'abcdefghijklmnopqrstuvwxyz '\n",
        "    raw_text = ''.join([char for char in raw_text if char in allowed_chars])\n",
        "\n",
        "    # Remover espacios múltiples\n",
        "    while '  ' in raw_text:\n",
        "        raw_text = raw_text.replace('  ', ' ')\n",
        "\n",
        "    return raw_text.strip()\n",
        "\n",
        "book_filepath = '/content/drive/MyDrive/Entrega_3/Don Quijote de la Mancha.txt'\n",
        "doc = preprocess_text(book_filepath)\n",
        "\n",
        "print(f\"Longitud del texto: {len(doc)} caracteres\")\n",
        "print(f\"Muestra del texto: '{doc[:100]}'\")\n"
      ],
      "metadata": {
        "colab": {
          "base_uri": "https://localhost:8080/"
        },
        "id": "JUXnqkYWfPAX",
        "outputId": "33184a33-76cf-4882-9547-32b5087b09af"
      },
      "execution_count": null,
      "outputs": [
        {
          "output_type": "stream",
          "name": "stdout",
          "text": [
            "Longitud del texto: 1966425 caracteres\n",
            "Muestra del texto: 'capitulo primero que trata de la condicion y ejercicio del famoso hidalgodon quijote de la manchaen '\n"
          ]
        }
      ]
    },
    {
      "cell_type": "markdown",
      "source": [
        "#🔡 Crear mapeos de caracteres\n",
        "\n"
      ],
      "metadata": {
        "id": "SJ-muRw8fVwr"
      }
    },
    {
      "cell_type": "code",
      "source": [
        "chars = sorted(list(set(doc)))\n",
        "total_chars = len(chars)\n",
        "print(f\"Total de caracteres únicos: {total_chars}\")\n",
        "print(f\"Caracteres: {chars}\")\n",
        "\n",
        "char_to_int = {char: i for i, char in enumerate(chars)}\n",
        "int_to_char = {i: char for i, char in enumerate(chars)}"
      ],
      "metadata": {
        "colab": {
          "base_uri": "https://localhost:8080/"
        },
        "id": "5AUElZyafUjm",
        "outputId": "5774c1d1-15b4-4193-cd5f-a32b016c79db"
      },
      "execution_count": null,
      "outputs": [
        {
          "output_type": "stream",
          "name": "stdout",
          "text": [
            "Total de caracteres únicos: 26\n",
            "Caracteres: [' ', 'a', 'b', 'c', 'd', 'e', 'f', 'g', 'h', 'i', 'j', 'l', 'm', 'n', 'o', 'p', 'q', 'r', 's', 't', 'u', 'v', 'w', 'x', 'y', 'z']\n"
          ]
        }
      ]
    },
    {
      "cell_type": "markdown",
      "source": [
        "#🧩  Crear secuencias de entrada y etiquetas\n"
      ],
      "metadata": {
        "id": "KjY6DDs1fdOG"
      }
    },
    {
      "cell_type": "code",
      "source": [
        "seq_length = 60\n",
        "input_sequences = []\n",
        "target_chars = []\n",
        "\n",
        "for i in range(len(doc) - seq_length):\n",
        "    seq_in = doc[i:i + seq_length]\n",
        "    seq_out = doc[i + seq_length]\n",
        "    input_sequences.append([char_to_int[char] for char in seq_in])\n",
        "    target_chars.append(char_to_int[seq_out])\n",
        "\n",
        "print(f\"Total de secuencias creadas: {len(input_sequences)}\")\n",
        "\n",
        "X = np.array(input_sequences)\n",
        "y = np.array(target_chars)\n",
        "\n",
        "print(f\"Forma de X: {X.shape}\")\n",
        "print(f\"Forma de y: {y.shape}\")"
      ],
      "metadata": {
        "colab": {
          "base_uri": "https://localhost:8080/"
        },
        "id": "nl6RXJj7ffzL",
        "outputId": "5195bb53-4f26-4f79-db52-c8672b68247c"
      },
      "execution_count": null,
      "outputs": [
        {
          "output_type": "stream",
          "name": "stdout",
          "text": [
            "Total de secuencias creadas: 1966365\n",
            "Forma de X: (1966365, 60)\n",
            "Forma de y: (1966365,)\n"
          ]
        }
      ]
    },
    {
      "cell_type": "markdown",
      "source": [
        "#✂️ División del conjunto de datos (entrenamiento, validación y test)\n",
        "\n"
      ],
      "metadata": {
        "id": "3xUxd_ECfkVz"
      }
    },
    {
      "cell_type": "code",
      "source": [
        "train_size = 0.7\n",
        "val_size = 0.2\n",
        "test_size = 0.1\n",
        "\n",
        "train_idx = int(len(X) * train_size)\n",
        "val_idx = int(len(X) * (train_size + val_size))\n",
        "\n",
        "X_train = X[:train_idx]\n",
        "y_train = y[:train_idx]\n",
        "X_val = X[train_idx:val_idx]\n",
        "y_val = y[train_idx:val_idx]\n",
        "X_test = X[val_idx:]\n",
        "y_test = y[val_idx:]\n",
        "\n",
        "print(f\"\\nDimensiones de los datos:\")\n",
        "print(f\"Entrenamiento: X_train={X_train.shape}, y_train={y_train.shape}\")\n",
        "print(f\"Validación: X_val={X_val.shape}, y_val={y_val.shape}\")\n",
        "print(f\"Test: X_test={X_test.shape}, y_test={y_test.shape}\")\n"
      ],
      "metadata": {
        "colab": {
          "base_uri": "https://localhost:8080/"
        },
        "id": "h40n9gFKfkuV",
        "outputId": "0791fd9c-09ca-48ed-d498-98b9200b55ef"
      },
      "execution_count": null,
      "outputs": [
        {
          "output_type": "stream",
          "name": "stdout",
          "text": [
            "\n",
            "Dimensiones de los datos:\n",
            "Entrenamiento: X_train=(1376455, 60), y_train=(1376455,)\n",
            "Validación: X_val=(393273, 60), y_val=(393273,)\n",
            "Test: X_test=(196637, 60), y_test=(196637,)\n"
          ]
        }
      ]
    },
    {
      "cell_type": "markdown",
      "source": [
        "#🧠 Construcción del modelo LSTM\n",
        "\n"
      ],
      "metadata": {
        "id": "dRFSs859ftAz"
      }
    },
    {
      "cell_type": "code",
      "source": [
        "model = Sequential()\n",
        "model.add(Embedding(input_dim=total_chars, output_dim=50, input_shape=(seq_length,)))\n",
        "model.add(LSTM(256, return_sequences=True))\n",
        "model.add(Dropout(0.2))\n",
        "model.add(LSTM(256))\n",
        "model.add(Dropout(0.2))\n",
        "model.add(Dense(total_chars, activation='softmax'))\n",
        "\n",
        "model.compile(loss='sparse_categorical_crossentropy', optimizer=Adam(learning_rate=0.001), metrics=['accuracy'])\n",
        "model.summary()"
      ],
      "metadata": {
        "colab": {
          "base_uri": "https://localhost:8080/",
          "height": 395
        },
        "id": "tOgadhmafyiv",
        "outputId": "39a021fe-b8fd-4adf-87f8-487da7d31756"
      },
      "execution_count": null,
      "outputs": [
        {
          "output_type": "stream",
          "name": "stderr",
          "text": [
            "/usr/local/lib/python3.11/dist-packages/keras/src/layers/core/embedding.py:93: UserWarning: Do not pass an `input_shape`/`input_dim` argument to a layer. When using Sequential models, prefer using an `Input(shape)` object as the first layer in the model instead.\n",
            "  super().__init__(**kwargs)\n"
          ]
        },
        {
          "output_type": "display_data",
          "data": {
            "text/plain": [
              "\u001b[1mModel: \"sequential\"\u001b[0m\n"
            ],
            "text/html": [
              "<pre style=\"white-space:pre;overflow-x:auto;line-height:normal;font-family:Menlo,'DejaVu Sans Mono',consolas,'Courier New',monospace\"><span style=\"font-weight: bold\">Model: \"sequential\"</span>\n",
              "</pre>\n"
            ]
          },
          "metadata": {}
        },
        {
          "output_type": "display_data",
          "data": {
            "text/plain": [
              "┏━━━━━━━━━━━━━━━━━━━━━━━━━━━━━━━━━┳━━━━━━━━━━━━━━━━━━━━━━━━┳━━━━━━━━━━━━━━━┓\n",
              "┃\u001b[1m \u001b[0m\u001b[1mLayer (type)                   \u001b[0m\u001b[1m \u001b[0m┃\u001b[1m \u001b[0m\u001b[1mOutput Shape          \u001b[0m\u001b[1m \u001b[0m┃\u001b[1m \u001b[0m\u001b[1m      Param #\u001b[0m\u001b[1m \u001b[0m┃\n",
              "┡━━━━━━━━━━━━━━━━━━━━━━━━━━━━━━━━━╇━━━━━━━━━━━━━━━━━━━━━━━━╇━━━━━━━━━━━━━━━┩\n",
              "│ embedding (\u001b[38;5;33mEmbedding\u001b[0m)           │ (\u001b[38;5;45mNone\u001b[0m, \u001b[38;5;34m60\u001b[0m, \u001b[38;5;34m50\u001b[0m)         │         \u001b[38;5;34m1,300\u001b[0m │\n",
              "├─────────────────────────────────┼────────────────────────┼───────────────┤\n",
              "│ lstm (\u001b[38;5;33mLSTM\u001b[0m)                     │ (\u001b[38;5;45mNone\u001b[0m, \u001b[38;5;34m60\u001b[0m, \u001b[38;5;34m256\u001b[0m)        │       \u001b[38;5;34m314,368\u001b[0m │\n",
              "├─────────────────────────────────┼────────────────────────┼───────────────┤\n",
              "│ dropout (\u001b[38;5;33mDropout\u001b[0m)               │ (\u001b[38;5;45mNone\u001b[0m, \u001b[38;5;34m60\u001b[0m, \u001b[38;5;34m256\u001b[0m)        │             \u001b[38;5;34m0\u001b[0m │\n",
              "├─────────────────────────────────┼────────────────────────┼───────────────┤\n",
              "│ lstm_1 (\u001b[38;5;33mLSTM\u001b[0m)                   │ (\u001b[38;5;45mNone\u001b[0m, \u001b[38;5;34m256\u001b[0m)            │       \u001b[38;5;34m525,312\u001b[0m │\n",
              "├─────────────────────────────────┼────────────────────────┼───────────────┤\n",
              "│ dropout_1 (\u001b[38;5;33mDropout\u001b[0m)             │ (\u001b[38;5;45mNone\u001b[0m, \u001b[38;5;34m256\u001b[0m)            │             \u001b[38;5;34m0\u001b[0m │\n",
              "├─────────────────────────────────┼────────────────────────┼───────────────┤\n",
              "│ dense (\u001b[38;5;33mDense\u001b[0m)                   │ (\u001b[38;5;45mNone\u001b[0m, \u001b[38;5;34m26\u001b[0m)             │         \u001b[38;5;34m6,682\u001b[0m │\n",
              "└─────────────────────────────────┴────────────────────────┴───────────────┘\n"
            ],
            "text/html": [
              "<pre style=\"white-space:pre;overflow-x:auto;line-height:normal;font-family:Menlo,'DejaVu Sans Mono',consolas,'Courier New',monospace\">┏━━━━━━━━━━━━━━━━━━━━━━━━━━━━━━━━━┳━━━━━━━━━━━━━━━━━━━━━━━━┳━━━━━━━━━━━━━━━┓\n",
              "┃<span style=\"font-weight: bold\"> Layer (type)                    </span>┃<span style=\"font-weight: bold\"> Output Shape           </span>┃<span style=\"font-weight: bold\">       Param # </span>┃\n",
              "┡━━━━━━━━━━━━━━━━━━━━━━━━━━━━━━━━━╇━━━━━━━━━━━━━━━━━━━━━━━━╇━━━━━━━━━━━━━━━┩\n",
              "│ embedding (<span style=\"color: #0087ff; text-decoration-color: #0087ff\">Embedding</span>)           │ (<span style=\"color: #00d7ff; text-decoration-color: #00d7ff\">None</span>, <span style=\"color: #00af00; text-decoration-color: #00af00\">60</span>, <span style=\"color: #00af00; text-decoration-color: #00af00\">50</span>)         │         <span style=\"color: #00af00; text-decoration-color: #00af00\">1,300</span> │\n",
              "├─────────────────────────────────┼────────────────────────┼───────────────┤\n",
              "│ lstm (<span style=\"color: #0087ff; text-decoration-color: #0087ff\">LSTM</span>)                     │ (<span style=\"color: #00d7ff; text-decoration-color: #00d7ff\">None</span>, <span style=\"color: #00af00; text-decoration-color: #00af00\">60</span>, <span style=\"color: #00af00; text-decoration-color: #00af00\">256</span>)        │       <span style=\"color: #00af00; text-decoration-color: #00af00\">314,368</span> │\n",
              "├─────────────────────────────────┼────────────────────────┼───────────────┤\n",
              "│ dropout (<span style=\"color: #0087ff; text-decoration-color: #0087ff\">Dropout</span>)               │ (<span style=\"color: #00d7ff; text-decoration-color: #00d7ff\">None</span>, <span style=\"color: #00af00; text-decoration-color: #00af00\">60</span>, <span style=\"color: #00af00; text-decoration-color: #00af00\">256</span>)        │             <span style=\"color: #00af00; text-decoration-color: #00af00\">0</span> │\n",
              "├─────────────────────────────────┼────────────────────────┼───────────────┤\n",
              "│ lstm_1 (<span style=\"color: #0087ff; text-decoration-color: #0087ff\">LSTM</span>)                   │ (<span style=\"color: #00d7ff; text-decoration-color: #00d7ff\">None</span>, <span style=\"color: #00af00; text-decoration-color: #00af00\">256</span>)            │       <span style=\"color: #00af00; text-decoration-color: #00af00\">525,312</span> │\n",
              "├─────────────────────────────────┼────────────────────────┼───────────────┤\n",
              "│ dropout_1 (<span style=\"color: #0087ff; text-decoration-color: #0087ff\">Dropout</span>)             │ (<span style=\"color: #00d7ff; text-decoration-color: #00d7ff\">None</span>, <span style=\"color: #00af00; text-decoration-color: #00af00\">256</span>)            │             <span style=\"color: #00af00; text-decoration-color: #00af00\">0</span> │\n",
              "├─────────────────────────────────┼────────────────────────┼───────────────┤\n",
              "│ dense (<span style=\"color: #0087ff; text-decoration-color: #0087ff\">Dense</span>)                   │ (<span style=\"color: #00d7ff; text-decoration-color: #00d7ff\">None</span>, <span style=\"color: #00af00; text-decoration-color: #00af00\">26</span>)             │         <span style=\"color: #00af00; text-decoration-color: #00af00\">6,682</span> │\n",
              "└─────────────────────────────────┴────────────────────────┴───────────────┘\n",
              "</pre>\n"
            ]
          },
          "metadata": {}
        },
        {
          "output_type": "display_data",
          "data": {
            "text/plain": [
              "\u001b[1m Total params: \u001b[0m\u001b[38;5;34m847,662\u001b[0m (3.23 MB)\n"
            ],
            "text/html": [
              "<pre style=\"white-space:pre;overflow-x:auto;line-height:normal;font-family:Menlo,'DejaVu Sans Mono',consolas,'Courier New',monospace\"><span style=\"font-weight: bold\"> Total params: </span><span style=\"color: #00af00; text-decoration-color: #00af00\">847,662</span> (3.23 MB)\n",
              "</pre>\n"
            ]
          },
          "metadata": {}
        },
        {
          "output_type": "display_data",
          "data": {
            "text/plain": [
              "\u001b[1m Trainable params: \u001b[0m\u001b[38;5;34m847,662\u001b[0m (3.23 MB)\n"
            ],
            "text/html": [
              "<pre style=\"white-space:pre;overflow-x:auto;line-height:normal;font-family:Menlo,'DejaVu Sans Mono',consolas,'Courier New',monospace\"><span style=\"font-weight: bold\"> Trainable params: </span><span style=\"color: #00af00; text-decoration-color: #00af00\">847,662</span> (3.23 MB)\n",
              "</pre>\n"
            ]
          },
          "metadata": {}
        },
        {
          "output_type": "display_data",
          "data": {
            "text/plain": [
              "\u001b[1m Non-trainable params: \u001b[0m\u001b[38;5;34m0\u001b[0m (0.00 B)\n"
            ],
            "text/html": [
              "<pre style=\"white-space:pre;overflow-x:auto;line-height:normal;font-family:Menlo,'DejaVu Sans Mono',consolas,'Courier New',monospace\"><span style=\"font-weight: bold\"> Non-trainable params: </span><span style=\"color: #00af00; text-decoration-color: #00af00\">0</span> (0.00 B)\n",
              "</pre>\n"
            ]
          },
          "metadata": {}
        }
      ]
    },
    {
      "cell_type": "markdown",
      "source": [
        "#🔮 Función para predecir el siguiente carácter\n"
      ],
      "metadata": {
        "id": "a-tSgKeDf2By"
      }
    },
    {
      "cell_type": "code",
      "source": [
        "def predict_next_char(model, input_text, char_to_int, int_to_char, seq_length):\n",
        "    input_text = input_text.lower()\n",
        "    input_text = unidecode.unidecode(input_text)\n",
        "\n",
        "    allowed_chars = 'abcdefghijklmnopqrstuvwxyz '\n",
        "    input_text = ''.join([char for char in input_text if char in allowed_chars])\n",
        "\n",
        "    if len(input_text) > seq_length:\n",
        "        input_text = input_text[-seq_length:]\n",
        "    if len(input_text) < seq_length:\n",
        "        input_text = ' ' * (seq_length - len(input_text)) + input_text\n",
        "\n",
        "    input_sequence = [char_to_int.get(char, char_to_int[' ']) for char in input_text]\n",
        "    input_array = np.array([input_sequence])\n",
        "\n",
        "    prediction = model.predict(input_array, verbose=0)\n",
        "    predicted_index = np.argmax(prediction[0])\n",
        "    predicted_char = int_to_char[predicted_index]\n",
        "\n",
        "    return predicted_char\n"
      ],
      "metadata": {
        "id": "hLgse2ROf3r4"
      },
      "execution_count": null,
      "outputs": []
    },
    {
      "cell_type": "markdown",
      "source": [
        "#📛 Callbacks de entrenamiento y muestra de predicción\n"
      ],
      "metadata": {
        "id": "BVukVwMZf7Vv"
      }
    },
    {
      "cell_type": "code",
      "source": [
        "checkpoint_dir = '/content/drive/MyDrive/checkpoint'\n",
        "\n",
        "def on_epoch_end(epoch, logs):\n",
        "    print(f\"\\n--- Prueba de predicción al final de la época {epoch + 1} ---\")\n",
        "\n",
        "    test_cases = [\n",
        "        \"don quijote de la manch\",\n",
        "        \"en un lugar de la manch\",\n",
        "        \"sancho panz\",\n",
        "        \"el ingenioso hidalg\"\n",
        "    ]\n",
        "\n",
        "    for test_text in test_cases:\n",
        "        predicted_char = predict_next_char(model, test_text, char_to_int, int_to_char, seq_length)\n",
        "        print(f\"'{test_text}' -> '{predicted_char}'\")\n",
        "\n",
        "    print(\"\\n\" + \"-\" * 60)\n",
        "\n",
        "early_stopping = EarlyStopping(\n",
        "    monitor='val_loss',\n",
        "    patience=3,\n",
        "    verbose=1,\n",
        "    mode='min',\n",
        "    restore_best_weights=True\n",
        ")\n",
        "\n",
        "reduce_lr = ReduceLROnPlateau(\n",
        "    monitor='val_loss',\n",
        "    factor=0.2,\n",
        "    patience=2,\n",
        "    verbose=1,\n",
        "    min_lr=1e-6,\n",
        "    mode='min'\n",
        ")\n",
        "\n",
        "checkpoint_callback = ModelCheckpoint(\n",
        "    checkpoint_dir + '/modelo_don_quijote_chars.keras',\n",
        "    monitor='val_loss',\n",
        "    save_best_only=True,\n",
        "    verbose=1,\n",
        "    mode='min'\n",
        ")\n",
        "\n",
        "generate_callback = LambdaCallback(on_epoch_end=on_epoch_end)\n",
        "\n",
        "Callbacks = [\n",
        "    early_stopping,\n",
        "    reduce_lr,\n",
        "    checkpoint_callback,\n",
        "    generate_callback\n",
        "]\n"
      ],
      "metadata": {
        "id": "3cYP-B1tf91P"
      },
      "execution_count": null,
      "outputs": []
    },
    {
      "cell_type": "markdown",
      "source": [
        "#🚀  Entrenamiento del modelo\n",
        "\n"
      ],
      "metadata": {
        "id": "SsUmbmQUgA8N"
      }
    },
    {
      "cell_type": "code",
      "source": [
        "history = model.fit(\n",
        "    X_train, y_train,\n",
        "    epochs=20,\n",
        "    batch_size=256,\n",
        "    callbacks=Callbacks,\n",
        "    validation_data=(X_val, y_val)\n",
        ")"
      ],
      "metadata": {
        "colab": {
          "base_uri": "https://localhost:8080/"
        },
        "id": "uRweWp74gF73",
        "outputId": "a7ca9536-7a88-4362-9b89-e63abc407efc"
      },
      "execution_count": null,
      "outputs": [
        {
          "output_type": "stream",
          "name": "stdout",
          "text": [
            "\n",
            "--- Iniciando entrenamiento del modelo LSTM para caracteres ---\n",
            "Epoch 1/20\n",
            "\u001b[1m5377/5377\u001b[0m \u001b[32m━━━━━━━━━━━━━━━━━━━━\u001b[0m\u001b[37m\u001b[0m \u001b[1m0s\u001b[0m 34ms/step - accuracy: 0.3861 - loss: 1.9606\n",
            "Epoch 1: val_loss improved from inf to 1.45716, saving model to /content/drive/MyDrive/checkpoint/modelo_don_quijote_chars.keras\n",
            "\n",
            "--- Prueba de predicción al final de la época 1 ---\n",
            "'don quijote de la manch' -> 'a'\n",
            "'en un lugar de la manch' -> 'a'\n",
            "'sancho panz' -> 'a'\n",
            "'el ingenioso hidalg' -> 'o'\n",
            "\n",
            "------------------------------------------------------------\n",
            "\u001b[1m5377/5377\u001b[0m \u001b[32m━━━━━━━━━━━━━━━━━━━━\u001b[0m\u001b[37m\u001b[0m \u001b[1m210s\u001b[0m 38ms/step - accuracy: 0.3861 - loss: 1.9605 - val_accuracy: 0.5399 - val_loss: 1.4572 - learning_rate: 0.0010\n",
            "Epoch 2/20\n",
            "\u001b[1m5376/5377\u001b[0m \u001b[32m━━━━━━━━━━━━━━━━━━━\u001b[0m\u001b[37m━\u001b[0m \u001b[1m0s\u001b[0m 35ms/step - accuracy: 0.5497 - loss: 1.4288\n",
            "Epoch 2: val_loss improved from 1.45716 to 1.37500, saving model to /content/drive/MyDrive/checkpoint/modelo_don_quijote_chars.keras\n",
            "\n",
            "--- Prueba de predicción al final de la época 2 ---\n",
            "'don quijote de la manch' -> 'a'\n",
            "'en un lugar de la manch' -> 'a'\n",
            "'sancho panz' -> 'a'\n",
            "'el ingenioso hidalg' -> 'o'\n",
            "\n",
            "------------------------------------------------------------\n",
            "\u001b[1m5377/5377\u001b[0m \u001b[32m━━━━━━━━━━━━━━━━━━━━\u001b[0m\u001b[37m\u001b[0m \u001b[1m261s\u001b[0m 38ms/step - accuracy: 0.5497 - loss: 1.4287 - val_accuracy: 0.5662 - val_loss: 1.3750 - learning_rate: 0.0010\n",
            "Epoch 3/20\n",
            "\u001b[1m5377/5377\u001b[0m \u001b[32m━━━━━━━━━━━━━━━━━━━━\u001b[0m\u001b[37m\u001b[0m \u001b[1m0s\u001b[0m 35ms/step - accuracy: 0.5737 - loss: 1.3518\n",
            "Epoch 3: val_loss improved from 1.37500 to 1.34031, saving model to /content/drive/MyDrive/checkpoint/modelo_don_quijote_chars.keras\n",
            "\n",
            "--- Prueba de predicción al final de la época 3 ---\n",
            "'don quijote de la manch' -> 'a'\n",
            "'en un lugar de la manch' -> 'a'\n",
            "'sancho panz' -> 'a'\n",
            "'el ingenioso hidalg' -> 'o'\n",
            "\n",
            "------------------------------------------------------------\n",
            "\u001b[1m5377/5377\u001b[0m \u001b[32m━━━━━━━━━━━━━━━━━━━━\u001b[0m\u001b[37m\u001b[0m \u001b[1m265s\u001b[0m 39ms/step - accuracy: 0.5737 - loss: 1.3518 - val_accuracy: 0.5772 - val_loss: 1.3403 - learning_rate: 0.0010\n",
            "Epoch 4/20\n",
            "\u001b[1m5376/5377\u001b[0m \u001b[32m━━━━━━━━━━━━━━━━━━━\u001b[0m\u001b[37m━\u001b[0m \u001b[1m0s\u001b[0m 35ms/step - accuracy: 0.5848 - loss: 1.3137\n",
            "Epoch 4: val_loss improved from 1.34031 to 1.32326, saving model to /content/drive/MyDrive/checkpoint/modelo_don_quijote_chars.keras\n",
            "\n",
            "--- Prueba de predicción al final de la época 4 ---\n",
            "'don quijote de la manch' -> 'a'\n",
            "'en un lugar de la manch' -> 'a'\n",
            "'sancho panz' -> 'a'\n",
            "'el ingenioso hidalg' -> 'o'\n",
            "\n",
            "------------------------------------------------------------\n",
            "\u001b[1m5377/5377\u001b[0m \u001b[32m━━━━━━━━━━━━━━━━━━━━\u001b[0m\u001b[37m\u001b[0m \u001b[1m262s\u001b[0m 39ms/step - accuracy: 0.5848 - loss: 1.3137 - val_accuracy: 0.5831 - val_loss: 1.3233 - learning_rate: 0.0010\n",
            "Epoch 5/20\n",
            "\u001b[1m5376/5377\u001b[0m \u001b[32m━━━━━━━━━━━━━━━━━━━\u001b[0m\u001b[37m━\u001b[0m \u001b[1m0s\u001b[0m 35ms/step - accuracy: 0.5911 - loss: 1.2911\n",
            "Epoch 5: val_loss improved from 1.32326 to 1.31287, saving model to /content/drive/MyDrive/checkpoint/modelo_don_quijote_chars.keras\n",
            "\n",
            "--- Prueba de predicción al final de la época 5 ---\n",
            "'don quijote de la manch' -> 'a'\n",
            "'en un lugar de la manch' -> 'a'\n",
            "'sancho panz' -> 'a'\n",
            "'el ingenioso hidalg' -> 'o'\n",
            "\n",
            "------------------------------------------------------------\n",
            "\u001b[1m5377/5377\u001b[0m \u001b[32m━━━━━━━━━━━━━━━━━━━━\u001b[0m\u001b[37m\u001b[0m \u001b[1m263s\u001b[0m 39ms/step - accuracy: 0.5911 - loss: 1.2911 - val_accuracy: 0.5862 - val_loss: 1.3129 - learning_rate: 0.0010\n",
            "Epoch 6/20\n",
            "\u001b[1m5376/5377\u001b[0m \u001b[32m━━━━━━━━━━━━━━━━━━━\u001b[0m\u001b[37m━\u001b[0m \u001b[1m0s\u001b[0m 35ms/step - accuracy: 0.5965 - loss: 1.2737\n",
            "Epoch 6: val_loss improved from 1.31287 to 1.30699, saving model to /content/drive/MyDrive/checkpoint/modelo_don_quijote_chars.keras\n",
            "\n",
            "--- Prueba de predicción al final de la época 6 ---\n",
            "'don quijote de la manch' -> 'a'\n",
            "'en un lugar de la manch' -> 'a'\n",
            "'sancho panz' -> 'a'\n",
            "'el ingenioso hidalg' -> 'o'\n",
            "\n",
            "------------------------------------------------------------\n",
            "\u001b[1m5377/5377\u001b[0m \u001b[32m━━━━━━━━━━━━━━━━━━━━\u001b[0m\u001b[37m\u001b[0m \u001b[1m261s\u001b[0m 39ms/step - accuracy: 0.5965 - loss: 1.2737 - val_accuracy: 0.5877 - val_loss: 1.3070 - learning_rate: 0.0010\n",
            "Epoch 7/20\n",
            "\u001b[1m5376/5377\u001b[0m \u001b[32m━━━━━━━━━━━━━━━━━━━\u001b[0m\u001b[37m━\u001b[0m \u001b[1m0s\u001b[0m 35ms/step - accuracy: 0.6005 - loss: 1.2613\n",
            "Epoch 7: val_loss improved from 1.30699 to 1.30076, saving model to /content/drive/MyDrive/checkpoint/modelo_don_quijote_chars.keras\n",
            "\n",
            "--- Prueba de predicción al final de la época 7 ---\n",
            "'don quijote de la manch' -> 'a'\n",
            "'en un lugar de la manch' -> 'a'\n",
            "'sancho panz' -> 'a'\n",
            "'el ingenioso hidalg' -> 'o'\n",
            "\n",
            "------------------------------------------------------------\n",
            "\u001b[1m5377/5377\u001b[0m \u001b[32m━━━━━━━━━━━━━━━━━━━━\u001b[0m\u001b[37m\u001b[0m \u001b[1m259s\u001b[0m 39ms/step - accuracy: 0.6005 - loss: 1.2613 - val_accuracy: 0.5900 - val_loss: 1.3008 - learning_rate: 0.0010\n",
            "Epoch 8/20\n",
            "\u001b[1m5377/5377\u001b[0m \u001b[32m━━━━━━━━━━━━━━━━━━━━\u001b[0m\u001b[37m\u001b[0m \u001b[1m0s\u001b[0m 35ms/step - accuracy: 0.6028 - loss: 1.2530\n",
            "Epoch 8: val_loss improved from 1.30076 to 1.29689, saving model to /content/drive/MyDrive/checkpoint/modelo_don_quijote_chars.keras\n",
            "\n",
            "--- Prueba de predicción al final de la época 8 ---\n",
            "'don quijote de la manch' -> 'a'\n",
            "'en un lugar de la manch' -> 'a'\n",
            "'sancho panz' -> 'a'\n",
            "'el ingenioso hidalg' -> 'o'\n",
            "\n",
            "------------------------------------------------------------\n",
            "\u001b[1m5377/5377\u001b[0m \u001b[32m━━━━━━━━━━━━━━━━━━━━\u001b[0m\u001b[37m\u001b[0m \u001b[1m261s\u001b[0m 39ms/step - accuracy: 0.6028 - loss: 1.2530 - val_accuracy: 0.5913 - val_loss: 1.2969 - learning_rate: 0.0010\n",
            "Epoch 9/20\n",
            "\u001b[1m5376/5377\u001b[0m \u001b[32m━━━━━━━━━━━━━━━━━━━\u001b[0m\u001b[37m━\u001b[0m \u001b[1m0s\u001b[0m 35ms/step - accuracy: 0.6056 - loss: 1.2447\n",
            "Epoch 9: val_loss improved from 1.29689 to 1.29547, saving model to /content/drive/MyDrive/checkpoint/modelo_don_quijote_chars.keras\n",
            "\n",
            "--- Prueba de predicción al final de la época 9 ---\n",
            "'don quijote de la manch' -> 'a'\n",
            "'en un lugar de la manch' -> 'a'\n",
            "'sancho panz' -> 'a'\n",
            "'el ingenioso hidalg' -> 'o'\n",
            "\n",
            "------------------------------------------------------------\n",
            "\u001b[1m5377/5377\u001b[0m \u001b[32m━━━━━━━━━━━━━━━━━━━━\u001b[0m\u001b[37m\u001b[0m \u001b[1m262s\u001b[0m 39ms/step - accuracy: 0.6056 - loss: 1.2447 - val_accuracy: 0.5921 - val_loss: 1.2955 - learning_rate: 0.0010\n",
            "Epoch 10/20\n",
            "\u001b[1m5377/5377\u001b[0m \u001b[32m━━━━━━━━━━━━━━━━━━━━\u001b[0m\u001b[37m\u001b[0m \u001b[1m0s\u001b[0m 35ms/step - accuracy: 0.6070 - loss: 1.2388\n",
            "Epoch 10: val_loss improved from 1.29547 to 1.29470, saving model to /content/drive/MyDrive/checkpoint/modelo_don_quijote_chars.keras\n",
            "\n",
            "--- Prueba de predicción al final de la época 10 ---\n",
            "'don quijote de la manch' -> 'a'\n",
            "'en un lugar de la manch' -> 'a'\n",
            "'sancho panz' -> 'a'\n",
            "'el ingenioso hidalg' -> 'o'\n",
            "\n",
            "------------------------------------------------------------\n",
            "\u001b[1m5377/5377\u001b[0m \u001b[32m━━━━━━━━━━━━━━━━━━━━\u001b[0m\u001b[37m\u001b[0m \u001b[1m211s\u001b[0m 39ms/step - accuracy: 0.6070 - loss: 1.2388 - val_accuracy: 0.5926 - val_loss: 1.2947 - learning_rate: 0.0010\n",
            "Epoch 11/20\n",
            "\u001b[1m5377/5377\u001b[0m \u001b[32m━━━━━━━━━━━━━━━━━━━━\u001b[0m\u001b[37m\u001b[0m \u001b[1m0s\u001b[0m 35ms/step - accuracy: 0.6085 - loss: 1.2339\n",
            "Epoch 11: val_loss improved from 1.29470 to 1.29189, saving model to /content/drive/MyDrive/checkpoint/modelo_don_quijote_chars.keras\n",
            "\n",
            "--- Prueba de predicción al final de la época 11 ---\n",
            "'don quijote de la manch' -> 'a'\n",
            "'en un lugar de la manch' -> 'a'\n",
            "'sancho panz' -> 'a'\n",
            "'el ingenioso hidalg' -> 'o'\n",
            "\n",
            "------------------------------------------------------------\n",
            "\u001b[1m5377/5377\u001b[0m \u001b[32m━━━━━━━━━━━━━━━━━━━━\u001b[0m\u001b[37m\u001b[0m \u001b[1m259s\u001b[0m 39ms/step - accuracy: 0.6085 - loss: 1.2339 - val_accuracy: 0.5935 - val_loss: 1.2919 - learning_rate: 0.0010\n",
            "Epoch 12/20\n",
            "\u001b[1m5377/5377\u001b[0m \u001b[32m━━━━━━━━━━━━━━━━━━━━\u001b[0m\u001b[37m\u001b[0m \u001b[1m0s\u001b[0m 35ms/step - accuracy: 0.6094 - loss: 1.2296\n",
            "Epoch 12: val_loss improved from 1.29189 to 1.29125, saving model to /content/drive/MyDrive/checkpoint/modelo_don_quijote_chars.keras\n",
            "\n",
            "--- Prueba de predicción al final de la época 12 ---\n",
            "'don quijote de la manch' -> 'a'\n",
            "'en un lugar de la manch' -> 'a'\n",
            "'sancho panz' -> 'a'\n",
            "'el ingenioso hidalg' -> 'o'\n",
            "\n",
            "------------------------------------------------------------\n",
            "\u001b[1m5377/5377\u001b[0m \u001b[32m━━━━━━━━━━━━━━━━━━━━\u001b[0m\u001b[37m\u001b[0m \u001b[1m262s\u001b[0m 39ms/step - accuracy: 0.6094 - loss: 1.2296 - val_accuracy: 0.5940 - val_loss: 1.2912 - learning_rate: 0.0010\n",
            "Epoch 13/20\n",
            "\u001b[1m5377/5377\u001b[0m \u001b[32m━━━━━━━━━━━━━━━━━━━━\u001b[0m\u001b[37m\u001b[0m \u001b[1m0s\u001b[0m 35ms/step - accuracy: 0.6108 - loss: 1.2259\n",
            "Epoch 13: val_loss improved from 1.29125 to 1.28958, saving model to /content/drive/MyDrive/checkpoint/modelo_don_quijote_chars.keras\n",
            "\n",
            "--- Prueba de predicción al final de la época 13 ---\n",
            "'don quijote de la manch' -> 'a'\n",
            "'en un lugar de la manch' -> 'a'\n",
            "'sancho panz' -> 'a'\n",
            "'el ingenioso hidalg' -> 'o'\n",
            "\n",
            "------------------------------------------------------------\n",
            "\u001b[1m5377/5377\u001b[0m \u001b[32m━━━━━━━━━━━━━━━━━━━━\u001b[0m\u001b[37m\u001b[0m \u001b[1m212s\u001b[0m 39ms/step - accuracy: 0.6108 - loss: 1.2259 - val_accuracy: 0.5945 - val_loss: 1.2896 - learning_rate: 0.0010\n",
            "Epoch 14/20\n",
            "\u001b[1m5377/5377\u001b[0m \u001b[32m━━━━━━━━━━━━━━━━━━━━\u001b[0m\u001b[37m\u001b[0m \u001b[1m0s\u001b[0m 36ms/step - accuracy: 0.6119 - loss: 1.2223\n",
            "Epoch 14: val_loss improved from 1.28958 to 1.28650, saving model to /content/drive/MyDrive/checkpoint/modelo_don_quijote_chars.keras\n",
            "\n",
            "--- Prueba de predicción al final de la época 14 ---\n",
            "'don quijote de la manch' -> 'a'\n",
            "'en un lugar de la manch' -> 'a'\n",
            "'sancho panz' -> 'a'\n",
            "'el ingenioso hidalg' -> 'o'\n",
            "\n",
            "------------------------------------------------------------\n",
            "\u001b[1m5377/5377\u001b[0m \u001b[32m━━━━━━━━━━━━━━━━━━━━\u001b[0m\u001b[37m\u001b[0m \u001b[1m212s\u001b[0m 39ms/step - accuracy: 0.6119 - loss: 1.2223 - val_accuracy: 0.5950 - val_loss: 1.2865 - learning_rate: 0.0010\n",
            "Epoch 15/20\n",
            "\u001b[1m5376/5377\u001b[0m \u001b[32m━━━━━━━━━━━━━━━━━━━\u001b[0m\u001b[37m━\u001b[0m \u001b[1m0s\u001b[0m 36ms/step - accuracy: 0.6125 - loss: 1.2208\n",
            "Epoch 15: val_loss did not improve from 1.28650\n",
            "\n",
            "--- Prueba de predicción al final de la época 15 ---\n",
            "'don quijote de la manch' -> 'a'\n",
            "'en un lugar de la manch' -> 'a'\n",
            "'sancho panz' -> 'a'\n",
            "'el ingenioso hidalg' -> 'o'\n",
            "\n",
            "------------------------------------------------------------\n",
            "\u001b[1m5377/5377\u001b[0m \u001b[32m━━━━━━━━━━━━━━━━━━━━\u001b[0m\u001b[37m\u001b[0m \u001b[1m264s\u001b[0m 40ms/step - accuracy: 0.6125 - loss: 1.2208 - val_accuracy: 0.5962 - val_loss: 1.2867 - learning_rate: 0.0010\n",
            "Epoch 16/20\n",
            "\u001b[1m5377/5377\u001b[0m \u001b[32m━━━━━━━━━━━━━━━━━━━━\u001b[0m\u001b[37m\u001b[0m \u001b[1m0s\u001b[0m 36ms/step - accuracy: 0.6129 - loss: 1.2185\n",
            "Epoch 16: val_loss improved from 1.28650 to 1.28580, saving model to /content/drive/MyDrive/checkpoint/modelo_don_quijote_chars.keras\n",
            "\n",
            "--- Prueba de predicción al final de la época 16 ---\n",
            "'don quijote de la manch' -> 'a'\n",
            "'en un lugar de la manch' -> 'a'\n",
            "'sancho panz' -> 'a'\n",
            "'el ingenioso hidalg' -> 'o'\n",
            "\n",
            "------------------------------------------------------------\n",
            "\u001b[1m5377/5377\u001b[0m \u001b[32m━━━━━━━━━━━━━━━━━━━━\u001b[0m\u001b[37m\u001b[0m \u001b[1m213s\u001b[0m 40ms/step - accuracy: 0.6129 - loss: 1.2185 - val_accuracy: 0.5966 - val_loss: 1.2858 - learning_rate: 0.0010\n",
            "Epoch 17/20\n",
            "\u001b[1m5376/5377\u001b[0m \u001b[32m━━━━━━━━━━━━━━━━━━━\u001b[0m\u001b[37m━\u001b[0m \u001b[1m0s\u001b[0m 36ms/step - accuracy: 0.6131 - loss: 1.2173\n",
            "Epoch 17: val_loss improved from 1.28580 to 1.28567, saving model to /content/drive/MyDrive/checkpoint/modelo_don_quijote_chars.keras\n",
            "\n",
            "--- Prueba de predicción al final de la época 17 ---\n",
            "'don quijote de la manch' -> 'a'\n",
            "'en un lugar de la manch' -> 'a'\n",
            "'sancho panz' -> 'a'\n",
            "'el ingenioso hidalg' -> 'o'\n",
            "\n",
            "------------------------------------------------------------\n",
            "\u001b[1m5377/5377\u001b[0m \u001b[32m━━━━━━━━━━━━━━━━━━━━\u001b[0m\u001b[37m\u001b[0m \u001b[1m263s\u001b[0m 40ms/step - accuracy: 0.6131 - loss: 1.2173 - val_accuracy: 0.5961 - val_loss: 1.2857 - learning_rate: 0.0010\n",
            "Epoch 18/20\n",
            "\u001b[1m5377/5377\u001b[0m \u001b[32m━━━━━━━━━━━━━━━━━━━━\u001b[0m\u001b[37m\u001b[0m \u001b[1m0s\u001b[0m 36ms/step - accuracy: 0.6136 - loss: 1.2152\n",
            "Epoch 18: val_loss did not improve from 1.28567\n",
            "\n",
            "--- Prueba de predicción al final de la época 18 ---\n",
            "'don quijote de la manch' -> 'a'\n",
            "'en un lugar de la manch' -> 'a'\n",
            "'sancho panz' -> 'a'\n",
            "'el ingenioso hidalg' -> 'o'\n",
            "\n",
            "------------------------------------------------------------\n",
            "\u001b[1m5377/5377\u001b[0m \u001b[32m━━━━━━━━━━━━━━━━━━━━\u001b[0m\u001b[37m\u001b[0m \u001b[1m262s\u001b[0m 40ms/step - accuracy: 0.6136 - loss: 1.2152 - val_accuracy: 0.5957 - val_loss: 1.2858 - learning_rate: 0.0010\n",
            "Epoch 19/20\n",
            "\u001b[1m5377/5377\u001b[0m \u001b[32m━━━━━━━━━━━━━━━━━━━━\u001b[0m\u001b[37m\u001b[0m \u001b[1m0s\u001b[0m 36ms/step - accuracy: 0.6140 - loss: 1.2150\n",
            "Epoch 19: val_loss improved from 1.28567 to 1.28550, saving model to /content/drive/MyDrive/checkpoint/modelo_don_quijote_chars.keras\n",
            "\n",
            "--- Prueba de predicción al final de la época 19 ---\n",
            "'don quijote de la manch' -> 'a'\n",
            "'en un lugar de la manch' -> 'a'\n",
            "'sancho panz' -> 'a'\n",
            "'el ingenioso hidalg' -> 'o'\n",
            "\n",
            "------------------------------------------------------------\n",
            "\u001b[1m5377/5377\u001b[0m \u001b[32m━━━━━━━━━━━━━━━━━━━━\u001b[0m\u001b[37m\u001b[0m \u001b[1m213s\u001b[0m 40ms/step - accuracy: 0.6140 - loss: 1.2150 - val_accuracy: 0.5962 - val_loss: 1.2855 - learning_rate: 0.0010\n",
            "Epoch 20/20\n",
            "\u001b[1m5377/5377\u001b[0m \u001b[32m━━━━━━━━━━━━━━━━━━━━\u001b[0m\u001b[37m\u001b[0m \u001b[1m0s\u001b[0m 36ms/step - accuracy: 0.6143 - loss: 1.2128\n",
            "Epoch 20: val_loss improved from 1.28550 to 1.28542, saving model to /content/drive/MyDrive/checkpoint/modelo_don_quijote_chars.keras\n",
            "\n",
            "--- Prueba de predicción al final de la época 20 ---\n",
            "'don quijote de la manch' -> 'a'\n",
            "'en un lugar de la manch' -> 'a'\n",
            "'sancho panz' -> 'a'\n",
            "'el ingenioso hidalg' -> 'o'\n",
            "\n",
            "------------------------------------------------------------\n",
            "\u001b[1m5377/5377\u001b[0m \u001b[32m━━━━━━━━━━━━━━━━━━━━\u001b[0m\u001b[37m\u001b[0m \u001b[1m214s\u001b[0m 40ms/step - accuracy: 0.6143 - loss: 1.2128 - val_accuracy: 0.5965 - val_loss: 1.2854 - learning_rate: 0.0010\n",
            "Restoring model weights from the end of the best epoch: 20.\n",
            "--- Entrenamiento del modelo LSTM finalizado ---\n"
          ]
        }
      ]
    },
    {
      "cell_type": "markdown",
      "source": [
        "#📈  Evaluación en el conjunto de prueba\n",
        "\n"
      ],
      "metadata": {
        "id": "5ko6cT7RgJya"
      }
    },
    {
      "cell_type": "code",
      "source": [
        "print(\"\\n--- Evaluación en conjunto de test ---\")\n",
        "test_loss, test_accuracy = model.evaluate(X_test, y_test, verbose=0)\n",
        "print(f\"Test Loss: {test_loss:.4f}\")\n",
        "print(f\"Test Accuracy: {test_accuracy:.4f}\")\n",
        "\n",
        "print(f\"\\n--- Resumen de métricas finales ---\")\n",
        "print(f\"Entrenamiento - Loss: {history.history['loss'][-1]:.4f}, Accuracy: {history.history['accuracy'][-1]:.4f}\")\n",
        "print(f\"Validación - Loss: {history.history['val_loss'][-1]:.4f}, Accuracy: {history.history['val_accuracy'][-1]:.4f}\")\n",
        "print(f\"Test - Loss: {test_loss:.4f}, Accuracy: {test_accuracy:.4f}\")"
      ],
      "metadata": {
        "colab": {
          "base_uri": "https://localhost:8080/"
        },
        "id": "bGxaO6IHgPJ8",
        "outputId": "8ae20b54-c6ea-4d19-c4a5-0facfadcca2f"
      },
      "execution_count": null,
      "outputs": [
        {
          "output_type": "stream",
          "name": "stdout",
          "text": [
            "\n",
            "--- Evaluación en conjunto de test ---\n",
            "Test Loss: 1.2777\n",
            "Test Accuracy: 0.6013\n",
            "\n",
            "--- Resumen de métricas finales ---\n",
            "Entrenamiento - Loss: 1.2108, Accuracy: 0.6150\n",
            "Validación - Loss: 1.2854, Accuracy: 0.5965\n",
            "Test - Loss: 1.2777, Accuracy: 0.6013\n"
          ]
        }
      ]
    },
    {
      "cell_type": "markdown",
      "source": [
        "#🧪 Pruebas de predicción de texto"
      ],
      "metadata": {
        "id": "P6SaSaVfgSMD"
      }
    },
    {
      "cell_type": "code",
      "source": [
        "def test_character_prediction(input_text):\n",
        "    predicted_char = predict_next_char(model, input_text, char_to_int, int_to_char, seq_length)\n",
        "    print(f\"Input: '{input_text}'\")\n",
        "    print(f\"Siguiente carácter predicho: '{predicted_char}'\")\n",
        "    return predicted_char\n",
        "\n",
        "# Ejemplos\n",
        "print(\"\\n--- Ejemplos de predicción ---\")\n",
        "test_character_prediction(\"don quijote de la manch\")\n",
        "test_character_prediction(\"en un lugar de la manch\")\n",
        "test_character_prediction(\"sancho panz\")\n"
      ],
      "metadata": {
        "colab": {
          "base_uri": "https://localhost:8080/",
          "height": 174
        },
        "id": "TQgvsxjRgRoP",
        "outputId": "6cda6233-7256-4fad-c641-1853665a4a71"
      },
      "execution_count": null,
      "outputs": [
        {
          "output_type": "stream",
          "name": "stdout",
          "text": [
            "\n",
            "--- Ejemplos de predicción ---\n",
            "Input: 'don quijote de la manch'\n",
            "Siguiente carácter predicho: 'a'\n",
            "Input: 'en un lugar de la manch'\n",
            "Siguiente carácter predicho: 'a'\n",
            "Input: 'sancho panz'\n",
            "Siguiente carácter predicho: 'a'\n"
          ]
        },
        {
          "output_type": "execute_result",
          "data": {
            "text/plain": [
              "'a'"
            ],
            "application/vnd.google.colaboratory.intrinsic+json": {
              "type": "string"
            }
          },
          "metadata": {},
          "execution_count": 11
        }
      ]
    }
  ]
}